{
 "cells": [
  {
   "cell_type": "markdown",
   "metadata": {},
   "source": [
    "# Investigation of the effect of several markers on COVID-19 risk and deaths\n",
    "## Author: Yizhou Yu\n",
    "### Affiliation: MRC Toxicology, University of Cambridge\n",
    "#### Contract detail: yzy21 [at] mrc-tox.cam.ac.uk\n",
    "\n",
    "Here, I will first extract the UK Biobank data, from all >500,000 people. I will then subset the data from all people who have been tested for COVID-19.\n",
    "\n",
    "I will first test people who were infected (without information on death). This will allow me to determine what drives infection. <br>\n",
    "In this analysis, I will try to include: UK Biobank phenotype and genotype markers (e.g. BMI, smoking status, dementia, etc.), their air pollution exposure (in 2018), the crowd mobility that they were exposed to, etc. \n",
    "\n",
    "I will then look at the adversive outcomes, and how these markers affect lethality.\n",
    "\n",
    "Access to the UK Biobank data is granted under the application 60124.\n",
    "\n",
    "Note that I had to downgrade R to run it with rpy2<br>\n",
    "update.packages(ask=FALSE,\n",
    "                checkBuilt=TRUE,\n",
    "                repos=\"https://cloud.r-project.org\")"
   ]
  },
  {
   "cell_type": "markdown",
   "metadata": {
    "toc": true
   },
   "source": [
    "<h1>Table of Contents<span class=\"tocSkip\"></span></h1>\n",
    "<div class=\"toc\"><ul class=\"toc-item\"><li><span><a href=\"#Investigation-of-the-effect-of-several-markers-on-COVID-19-risk-and-deaths\" data-toc-modified-id=\"Investigation-of-the-effect-of-several-markers-on-COVID-19-risk-and-deaths-1\"><span class=\"toc-item-num\">1&nbsp;&nbsp;</span>Investigation of the effect of several markers on COVID-19 risk and deaths</a></span><ul class=\"toc-item\"><li><span><a href=\"#Author:-Yizhou-Yu\" data-toc-modified-id=\"Author:-Yizhou-Yu-1.1\"><span class=\"toc-item-num\">1.1&nbsp;&nbsp;</span>Author: Yizhou Yu</a></span><ul class=\"toc-item\"><li><span><a href=\"#Affiliation:-MRC-Toxicology,-University-of-Cambridge\" data-toc-modified-id=\"Affiliation:-MRC-Toxicology,-University-of-Cambridge-1.1.1\"><span class=\"toc-item-num\">1.1.1&nbsp;&nbsp;</span>Affiliation: MRC Toxicology, University of Cambridge</a></span><ul class=\"toc-item\"><li><span><a href=\"#Contract-detail:-yzy21-[at]-mrc-tox.cam.ac.uk\" data-toc-modified-id=\"Contract-detail:-yzy21-[at]-mrc-tox.cam.ac.uk-1.1.1.1\"><span class=\"toc-item-num\">1.1.1.1&nbsp;&nbsp;</span>Contract detail: yzy21 [at] mrc-tox.cam.ac.uk</a></span></li></ul></li></ul></li></ul></li><li><span><a href=\"#Data-Curation\" data-toc-modified-id=\"Data-Curation-2\"><span class=\"toc-item-num\">2&nbsp;&nbsp;</span>Data Curation</a></span><ul class=\"toc-item\"><li><span><a href=\"#Set-R-environment-&amp;-Load-python-libraries\" data-toc-modified-id=\"Set-R-environment-&amp;-Load-python-libraries-2.1\"><span class=\"toc-item-num\">2.1&nbsp;&nbsp;</span>Set R environment &amp; Load python libraries</a></span></li><li><span><a href=\"#Obtain-the-UK-Biobank-phenotype-data-subset,-with-the-variables-of-interest.\" data-toc-modified-id=\"Obtain-the-UK-Biobank-phenotype-data-subset,-with-the-variables-of-interest.-2.2\"><span class=\"toc-item-num\">2.2&nbsp;&nbsp;</span>Obtain the UK Biobank phenotype data subset, with the variables of interest.</a></span><ul class=\"toc-item\"><li><span><a href=\"#Create-a-selector-function\" data-toc-modified-id=\"Create-a-selector-function-2.2.1\"><span class=\"toc-item-num\">2.2.1&nbsp;&nbsp;</span>Create a selector function</a></span></li></ul></li><li><span><a href=\"#Subset-the-participants-with-COVID-19-results-(as-of-August-2020)\" data-toc-modified-id=\"Subset-the-participants-with-COVID-19-results-(as-of-August-2020)-2.3\"><span class=\"toc-item-num\">2.3&nbsp;&nbsp;</span>Subset the participants with COVID-19 results (as of August 2020)</a></span><ul class=\"toc-item\"><li><span><a href=\"#Load-UK-Biobank-COVID-19-data\" data-toc-modified-id=\"Load-UK-Biobank-COVID-19-data-2.3.1\"><span class=\"toc-item-num\">2.3.1&nbsp;&nbsp;</span>Load UK Biobank COVID-19 data</a></span><ul class=\"toc-item\"><li><span><a href=\"#Get-the-date-range-of-the-test-results\" data-toc-modified-id=\"Get-the-date-range-of-the-test-results-2.3.1.1\"><span class=\"toc-item-num\">2.3.1.1&nbsp;&nbsp;</span>Get the date range of the test results</a></span></li></ul></li><li><span><a href=\"#Save-curated-data\" data-toc-modified-id=\"Save-curated-data-2.3.2\"><span class=\"toc-item-num\">2.3.2&nbsp;&nbsp;</span>Save curated data</a></span></li></ul></li><li><span><a href=\"#Mergeing-the-2-parts-of-this-dataset\" data-toc-modified-id=\"Mergeing-the-2-parts-of-this-dataset-2.4\"><span class=\"toc-item-num\">2.4&nbsp;&nbsp;</span>Mergeing the 2 parts of this dataset</a></span><ul class=\"toc-item\"><li><span><a href=\"#Here,-I-will-get-the-most-up-to-date-result\" data-toc-modified-id=\"Here,-I-will-get-the-most-up-to-date-result-2.4.1\"><span class=\"toc-item-num\">2.4.1&nbsp;&nbsp;</span>Here, I will get the most up-to-date result</a></span></li><li><span><a href=\"#Subset-the-data-with-only-the-COVID-19-tested-participants\" data-toc-modified-id=\"Subset-the-data-with-only-the-COVID-19-tested-participants-2.4.2\"><span class=\"toc-item-num\">2.4.2&nbsp;&nbsp;</span>Subset the data with only the COVID-19-tested participants</a></span><ul class=\"toc-item\"><li><span><a href=\"#Select-rows-by-chunk\" data-toc-modified-id=\"Select-rows-by-chunk-2.4.2.1\"><span class=\"toc-item-num\">2.4.2.1&nbsp;&nbsp;</span>Select rows by chunk</a></span></li><li><span><a href=\"#Select-rows-by-chunk\" data-toc-modified-id=\"Select-rows-by-chunk-2.4.2.2\"><span class=\"toc-item-num\">2.4.2.2&nbsp;&nbsp;</span>Select rows by chunk</a></span></li></ul></li><li><span><a href=\"#Get-the-most-up-to-date-data-from-these-participants\" data-toc-modified-id=\"Get-the-most-up-to-date-data-from-these-participants-2.4.3\"><span class=\"toc-item-num\">2.4.3&nbsp;&nbsp;</span>Get the most up-to-date data from these participants</a></span></li><li><span><a href=\"#Decode-with-the-UK-Biobank-values\" data-toc-modified-id=\"Decode-with-the-UK-Biobank-values-2.4.4\"><span class=\"toc-item-num\">2.4.4&nbsp;&nbsp;</span>Decode with the UK Biobank values</a></span><ul class=\"toc-item\"><li><span><a href=\"#Prepare-encodings\" data-toc-modified-id=\"Prepare-encodings-2.4.4.1\"><span class=\"toc-item-num\">2.4.4.1&nbsp;&nbsp;</span>Prepare encodings</a></span></li><li><span><a href=\"#Decode-UKB-phenotype-data\" data-toc-modified-id=\"Decode-UKB-phenotype-data-2.4.4.2\"><span class=\"toc-item-num\">2.4.4.2&nbsp;&nbsp;</span>Decode UKB phenotype data</a></span></li><li><span><a href=\"#Assign-custom-column-names\" data-toc-modified-id=\"Assign-custom-column-names-2.4.4.3\"><span class=\"toc-item-num\">2.4.4.3&nbsp;&nbsp;</span>Assign custom column names</a></span></li></ul></li><li><span><a href=\"#Merge-the-UK-Biobank-phenotype-data-with-the-UK-Biobank-COVID-19-data\" data-toc-modified-id=\"Merge-the-UK-Biobank-phenotype-data-with-the-UK-Biobank-COVID-19-data-2.4.5\"><span class=\"toc-item-num\">2.4.5&nbsp;&nbsp;</span>Merge the UK Biobank phenotype data with the UK Biobank COVID-19 data</a></span><ul class=\"toc-item\"><li><span><a href=\"#Curate-the-dementia-diagnosis-data\" data-toc-modified-id=\"Curate-the-dementia-diagnosis-data-2.4.5.1\"><span class=\"toc-item-num\">2.4.5.1&nbsp;&nbsp;</span>Curate the dementia diagnosis data</a></span></li><li><span><a href=\"#Hypertension-/-high-blood-pressure-calculations\" data-toc-modified-id=\"Hypertension-/-high-blood-pressure-calculations-2.4.5.2\"><span class=\"toc-item-num\">2.4.5.2&nbsp;&nbsp;</span>Hypertension / high blood pressure calculations</a></span></li><li><span><a href=\"#Calculate-Age:-2021---birth-year\" data-toc-modified-id=\"Calculate-Age:-2021---birth-year-2.4.5.3\"><span class=\"toc-item-num\">2.4.5.3&nbsp;&nbsp;</span>Calculate Age: 2021 - birth year</a></span></li><li><span><a href=\"#Drop-the-unused-columns\" data-toc-modified-id=\"Drop-the-unused-columns-2.4.5.4\"><span class=\"toc-item-num\">2.4.5.4&nbsp;&nbsp;</span>Drop the unused columns</a></span></li></ul></li><li><span><a href=\"#Assign-population-density\" data-toc-modified-id=\"Assign-population-density-2.4.6\"><span class=\"toc-item-num\">2.4.6&nbsp;&nbsp;</span>Assign population density</a></span></li></ul></li><li><span><a href=\"#Merge-generated-data-with-data-from-the-UK-Biobank\" data-toc-modified-id=\"Merge-generated-data-with-data-from-the-UK-Biobank-2.5\"><span class=\"toc-item-num\">2.5&nbsp;&nbsp;</span>Merge generated data with data from the UK Biobank</a></span><ul class=\"toc-item\"><li><span><a href=\"#Drop-unused-columns\" data-toc-modified-id=\"Drop-unused-columns-2.5.1\"><span class=\"toc-item-num\">2.5.1&nbsp;&nbsp;</span>Drop unused columns</a></span></li><li><span><a href=\"#Add-2-more-variables-to-the-list:-education-and-care-home\" data-toc-modified-id=\"Add-2-more-variables-to-the-list:-education-and-care-home-2.5.2\"><span class=\"toc-item-num\">2.5.2&nbsp;&nbsp;</span>Add 2 more variables to the list: education and care home</a></span><ul class=\"toc-item\"><li><span><a href=\"#Get-the-most-up-to-date-data-from-these-participants\" data-toc-modified-id=\"Get-the-most-up-to-date-data-from-these-participants-2.5.2.1\"><span class=\"toc-item-num\">2.5.2.1&nbsp;&nbsp;</span>Get the most up-to-date data from these participants</a></span></li><li><span><a href=\"#Decode\" data-toc-modified-id=\"Decode-2.5.2.2\"><span class=\"toc-item-num\">2.5.2.2&nbsp;&nbsp;</span>Decode</a></span></li></ul></li><li><span><a href=\"#Replace-&quot;No-Answer&quot;-as-NA\" data-toc-modified-id=\"Replace-&quot;No-Answer&quot;-as-NA-2.5.3\"><span class=\"toc-item-num\">2.5.3&nbsp;&nbsp;</span>Replace \"No Answer\" as NA</a></span></li><li><span><a href=\"#Curate-death-data\" data-toc-modified-id=\"Curate-death-data-2.5.4\"><span class=\"toc-item-num\">2.5.4&nbsp;&nbsp;</span>Curate death data</a></span></li><li><span><a href=\"#Calculate-the-percentage-of-deaths-related-to-COVID-19-&amp;-odds-ratio\" data-toc-modified-id=\"Calculate-the-percentage-of-deaths-related-to-COVID-19-&amp;-odds-ratio-2.5.5\"><span class=\"toc-item-num\">2.5.5&nbsp;&nbsp;</span>Calculate the percentage of deaths related to COVID-19 &amp; odds ratio</a></span></li><li><span><a href=\"#Add-drug-intake-data\" data-toc-modified-id=\"Add-drug-intake-data-2.5.6\"><span class=\"toc-item-num\">2.5.6&nbsp;&nbsp;</span>Add drug-intake data</a></span></li><li><span><a href=\"#Subset-the-data-to-decrease-processing-time\" data-toc-modified-id=\"Subset-the-data-to-decrease-processing-time-2.5.7\"><span class=\"toc-item-num\">2.5.7&nbsp;&nbsp;</span>Subset the data to decrease processing time</a></span></li><li><span><a href=\"#Create-separate-columns-for-each-of-the-8-drugs-investigated\" data-toc-modified-id=\"Create-separate-columns-for-each-of-the-8-drugs-investigated-2.5.8\"><span class=\"toc-item-num\">2.5.8&nbsp;&nbsp;</span>Create separate columns for each of the 8 drugs investigated</a></span></li><li><span><a href=\"#Check-how-many-people-take-each-drug-in-the-drug-dataset\" data-toc-modified-id=\"Check-how-many-people-take-each-drug-in-the-drug-dataset-2.5.9\"><span class=\"toc-item-num\">2.5.9&nbsp;&nbsp;</span>Check how many people take each drug in the drug dataset</a></span></li><li><span><a href=\"#Merge-and-save\" data-toc-modified-id=\"Merge-and-save-2.5.10\"><span class=\"toc-item-num\">2.5.10&nbsp;&nbsp;</span>Merge and save</a></span></li></ul></li></ul></li><li><span><a href=\"#Relationship-between-ibuprofen-&amp;-paracetamol-and-COVID-19\" data-toc-modified-id=\"Relationship-between-ibuprofen-&amp;-paracetamol-and-COVID-19-3\"><span class=\"toc-item-num\">3&nbsp;&nbsp;</span>Relationship between ibuprofen &amp; paracetamol and COVID-19</a></span><ul class=\"toc-item\"><li><span><a href=\"#Descriptive-stats-for-the-drugs\" data-toc-modified-id=\"Descriptive-stats-for-the-drugs-3.1\"><span class=\"toc-item-num\">3.1&nbsp;&nbsp;</span>Descriptive stats for the drugs</a></span><ul class=\"toc-item\"><li><span><a href=\"#Susbet-amantidine\" data-toc-modified-id=\"Susbet-amantidine-3.1.1\"><span class=\"toc-item-num\">3.1.1&nbsp;&nbsp;</span>Susbet amantidine</a></span></li></ul></li></ul></li><li><span><a href=\"#AD-/-PD-drug-analysis\" data-toc-modified-id=\"AD-/-PD-drug-analysis-4\"><span class=\"toc-item-num\">4&nbsp;&nbsp;</span>AD / PD drug analysis</a></span><ul class=\"toc-item\"><li><span><a href=\"#Data-curation\" data-toc-modified-id=\"Data-curation-4.1\"><span class=\"toc-item-num\">4.1&nbsp;&nbsp;</span>Data curation</a></span><ul class=\"toc-item\"><li><span><a href=\"#Subset-AD-&amp;-PD-eids\" data-toc-modified-id=\"Subset-AD-&amp;-PD-eids-4.1.1\"><span class=\"toc-item-num\">4.1.1&nbsp;&nbsp;</span>Subset AD &amp; PD eids</a></span></li><li><span><a href=\"#Overview-of-drugs-taken-by-these-participants\" data-toc-modified-id=\"Overview-of-drugs-taken-by-these-participants-4.1.2\"><span class=\"toc-item-num\">4.1.2&nbsp;&nbsp;</span>Overview of drugs taken by these participants</a></span></li><li><span><a href=\"#Curate-drugs-with-sufficient-data\" data-toc-modified-id=\"Curate-drugs-with-sufficient-data-4.1.3\"><span class=\"toc-item-num\">4.1.3&nbsp;&nbsp;</span>Curate drugs with sufficient data</a></span></li></ul></li><li><span><a href=\"#Analysis---death\" data-toc-modified-id=\"Analysis---death-4.2\"><span class=\"toc-item-num\">4.2&nbsp;&nbsp;</span>Analysis - death</a></span><ul class=\"toc-item\"><li><span><a href=\"#Data-visualisation\" data-toc-modified-id=\"Data-visualisation-4.2.1\"><span class=\"toc-item-num\">4.2.1&nbsp;&nbsp;</span>Data visualisation</a></span></li><li><span><a href=\"#AD-drug-model\" data-toc-modified-id=\"AD-drug-model-4.2.2\"><span class=\"toc-item-num\">4.2.2&nbsp;&nbsp;</span>AD drug model</a></span><ul class=\"toc-item\"><li><span><a href=\"#Complex-model\" data-toc-modified-id=\"Complex-model-4.2.2.1\"><span class=\"toc-item-num\">4.2.2.1&nbsp;&nbsp;</span>Complex model</a></span></li><li><span><a href=\"#Models-with-only-age,-sex-and-whr-as-covariates\" data-toc-modified-id=\"Models-with-only-age,-sex-and-whr-as-covariates-4.2.2.2\"><span class=\"toc-item-num\">4.2.2.2&nbsp;&nbsp;</span>Models with only age, sex and whr as covariates</a></span></li><li><span><a href=\"#raw-odds-of-drugs-in-the-AD-models\" data-toc-modified-id=\"raw-odds-of-drugs-in-the-AD-models-4.2.2.3\"><span class=\"toc-item-num\">4.2.2.3&nbsp;&nbsp;</span>raw odds of drugs in the AD models</a></span></li></ul></li><li><span><a href=\"#PD-drug-models\" data-toc-modified-id=\"PD-drug-models-4.2.3\"><span class=\"toc-item-num\">4.2.3&nbsp;&nbsp;</span>PD drug models</a></span><ul class=\"toc-item\"><li><span><a href=\"#Complex-model\" data-toc-modified-id=\"Complex-model-4.2.3.1\"><span class=\"toc-item-num\">4.2.3.1&nbsp;&nbsp;</span>Complex model</a></span></li><li><span><a href=\"#Simplified-model\" data-toc-modified-id=\"Simplified-model-4.2.3.2\"><span class=\"toc-item-num\">4.2.3.2&nbsp;&nbsp;</span>Simplified model</a></span></li><li><span><a href=\"#Model-with-only-drug---raw-odds\" data-toc-modified-id=\"Model-with-only-drug---raw-odds-4.2.3.3\"><span class=\"toc-item-num\">4.2.3.3&nbsp;&nbsp;</span>Model with only drug - raw odds</a></span></li></ul></li></ul></li><li><span><a href=\"#Analysis---infection\" data-toc-modified-id=\"Analysis---infection-4.3\"><span class=\"toc-item-num\">4.3&nbsp;&nbsp;</span>Analysis - infection</a></span><ul class=\"toc-item\"><li><span><a href=\"#AD-infection-models\" data-toc-modified-id=\"AD-infection-models-4.3.1\"><span class=\"toc-item-num\">4.3.1&nbsp;&nbsp;</span>AD infection models</a></span><ul class=\"toc-item\"><li><span><a href=\"#Visualisation\" data-toc-modified-id=\"Visualisation-4.3.1.1\"><span class=\"toc-item-num\">4.3.1.1&nbsp;&nbsp;</span>Visualisation</a></span></li><li><span><a href=\"#Complex-model\" data-toc-modified-id=\"Complex-model-4.3.1.2\"><span class=\"toc-item-num\">4.3.1.2&nbsp;&nbsp;</span>Complex model</a></span></li><li><span><a href=\"#Simplified-model\" data-toc-modified-id=\"Simplified-model-4.3.1.3\"><span class=\"toc-item-num\">4.3.1.3&nbsp;&nbsp;</span>Simplified model</a></span></li></ul></li><li><span><a href=\"#PD-infection-models\" data-toc-modified-id=\"PD-infection-models-4.3.2\"><span class=\"toc-item-num\">4.3.2&nbsp;&nbsp;</span>PD infection models</a></span><ul class=\"toc-item\"><li><span><a href=\"#Complex-models\" data-toc-modified-id=\"Complex-models-4.3.2.1\"><span class=\"toc-item-num\">4.3.2.1&nbsp;&nbsp;</span>Complex models</a></span></li><li><span><a href=\"#Simplified-model\" data-toc-modified-id=\"Simplified-model-4.3.2.2\"><span class=\"toc-item-num\">4.3.2.2&nbsp;&nbsp;</span>Simplified model</a></span></li></ul></li></ul></li></ul></li></ul></div>"
   ]
  },
  {
   "cell_type": "markdown",
   "metadata": {
    "colab_type": "text",
    "id": "3sis8b2OGoBw"
   },
   "source": [
    "# Data Curation"
   ]
  },
  {
   "cell_type": "markdown",
   "metadata": {
    "colab_type": "text",
    "id": "oXX4bI0MJEP1"
   },
   "source": [
    "## Set R environment & Load python libraries "
   ]
  },
  {
   "cell_type": "code",
   "execution_count": 1,
   "metadata": {},
   "outputs": [
    {
     "name": "stderr",
     "output_type": "stream",
     "text": [
      "/Users/yizhouyu/miniconda3/envs/yy_37_env2/lib/python3.7/site-packages/rpy2/robjects/pandas2ri.py:17: FutureWarning: pandas.core.index is deprecated and will be removed in a future version.  The public classes are available in the top-level namespace.\n",
      "  from pandas.core.index import Index as PandasIndex\n"
     ]
    }
   ],
   "source": [
    "import pandas as pd\n",
    "import tensorflow as tf\n",
    "#load R \n",
    "%load_ext rpy2.ipython"
   ]
  },
  {
   "cell_type": "markdown",
   "metadata": {
    "colab_type": "text",
    "id": "PAU3f3E8N0zu"
   },
   "source": [
    "## Obtain the UK Biobank phenotype data subset, with the variables of interest.\n",
    "\n",
    "### Create a selector function\n"
   ]
  },
  {
   "cell_type": "markdown",
   "metadata": {},
   "source": [
    "This function selects the relevant variables for this analysis"
   ]
  },
  {
   "cell_type": "code",
   "execution_count": 39,
   "metadata": {
    "colab": {},
    "colab_type": "code",
    "executionInfo": {
     "elapsed": 18519,
     "status": "ok",
     "timestamp": 1592948173914,
     "user": {
      "displayName": "Y.Z. Yu",
      "photoUrl": "",
      "userId": "09928832162633955671"
     },
     "user_tz": -60
    },
    "id": "1T78xa_jI8m-"
   },
   "outputs": [],
   "source": [
    "def UKB_select_rows(input_dt,col_list,output_dt):\n",
    "    #input_dt = full UKB dataset\n",
    "    #col_list = metadata \n",
    "    #output_dt = name of output data\n",
    "\n",
    "    input_name = str(''.join(input_dt))\n",
    "    output_name = str(''.join(output_dt))\n",
    "    col_list_name = str(''.join(col_list))\n",
    "\n",
    "    #create the list of columns to select \n",
    "    col_df = pd.read_csv(col_list_name, sep = ',', usecols = [\"FieldID\",\"Instances\",'Array'])\n",
    "    \n",
    "    #this is the array of columns to select, dont forget to include eid...\n",
    "    col_list_selected = ['eid']\n",
    "\n",
    "    #here I make a loop to collect all instances + arrays of a field\n",
    "    for index, row in col_df.iterrows():\n",
    "        # range automatically goes from 0 to n-1\n",
    "        instance_list = list(range(0,row['Instances'].astype(int)))\n",
    "        list_single_field = []\n",
    "        for instance_item in instance_list:\n",
    "            field_instance = [row['FieldID'].astype(str) + \"-\" + str(instance_item)]\n",
    "            list_single_field = list_single_field + field_instance\n",
    "            array_list = list(range(0,row['Array'].astype(int)))\n",
    "            for fi_item in list_single_field:\n",
    "                for array_item in array_list:\n",
    "                    field_instance_array = [str(fi_item) + \".\" + str(array_item)]\n",
    "                    col_list_selected = col_list_selected + field_instance_array\n",
    "                \n",
    "    #print(len(col_list_selected))\n",
    "    #col_df['UID'] = col_df[\"FieldID\"].astype(str) + \"-\" + col_df[\"Instances\"].astype(str) + \".\" + col_df['Array'].astype(str)\n",
    "    #selected_UID_list = col_df['UID'].tolist()\n",
    "    \n",
    "    # read the large csv file with specified chunksize \n",
    "    #I tried with many chunksizes... \n",
    "    df_chunk = pd.read_csv(input_name, sep = ',', chunksize=50000, dtype={'eid': int},encoding= 'unicode_escape', usecols = col_list_selected)\n",
    "\n",
    "    # Each chunk is in df format -> save them \n",
    "    # only write header once...\n",
    "    write_header = True\n",
    "    for chunk in df_chunk:\n",
    "        print(\"50K done, still running...\")\n",
    "        chunk.to_csv(output_name, mode='a', index=False, header=write_header)\n",
    "        write_header = False"
   ]
  },
  {
   "cell_type": "code",
   "execution_count": 40,
   "metadata": {
    "colab": {
     "base_uri": "https://localhost:8080/",
     "height": 810
    },
    "colab_type": "code",
    "executionInfo": {
     "elapsed": 310276,
     "status": "error",
     "timestamp": 1592948465680,
     "user": {
      "displayName": "Y.Z. Yu",
      "photoUrl": "",
      "userId": "09928832162633955671"
     },
     "user_tz": -60
    },
    "id": "jI3ik14yUCmC",
    "outputId": "fe96de86-64f2-4093-f9ee-3ef90409f947",
    "scrolled": true
   },
   "outputs": [
    {
     "name": "stdout",
     "output_type": "stream",
     "text": [
      "50K done, still running...\n",
      "50K done, still running...\n",
      "50K done, still running...\n",
      "50K done, still running...\n",
      "50K done, still running...\n",
      "50K done, still running...\n",
      "50K done, still running...\n",
      "50K done, still running...\n",
      "50K done, still running...\n",
      "50K done, still running...\n",
      "50K done, still running...\n"
     ]
    }
   ],
   "source": [
    "UKB_select_rows(input_dt=\"~/camDrive/ukb_dt_22_01_2021/ukb43784.csv\", \n",
    "                col_list = \"data/metadt.csv\", \n",
    "                output_dt = \"data/phenodt.csv\")\n"
   ]
  },
  {
   "cell_type": "markdown",
   "metadata": {},
   "source": [
    "## Subset the participants with COVID-19 results (as of August 2020)\n",
    "\n",
    "### Load UK Biobank COVID-19 data\n"
   ]
  },
  {
   "cell_type": "code",
   "execution_count": 111,
   "metadata": {
    "code_folding": [],
    "scrolled": true
   },
   "outputs": [
    {
     "data": {
      "text/plain": [
       "[1] 113882\n"
      ]
     },
     "metadata": {},
     "output_type": "display_data"
    }
   ],
   "source": [
    "%%R \n",
    "raw_ukb_covid = read.csv(\"data/covid19_result_10022021.txt\", sep = \"\\t\")\n",
    "nrow(raw_ukb_covid)"
   ]
  },
  {
   "cell_type": "markdown",
   "metadata": {},
   "source": [
    "#### Get the date range of the test results "
   ]
  },
  {
   "cell_type": "code",
   "execution_count": 112,
   "metadata": {},
   "outputs": [
    {
     "data": {
      "text/plain": [
       "[1] \"2021-02-01\"\n"
      ]
     },
     "metadata": {},
     "output_type": "display_data"
    }
   ],
   "source": [
    "%%R\n",
    "raw_ukb_covid$specdate = as.Date(raw_ukb_covid$specdate,tryFormats = \"%d/%m/%Y\")\n",
    "max(raw_ukb_covid$specdate)"
   ]
  },
  {
   "cell_type": "markdown",
   "metadata": {},
   "source": [
    "Number of unique eids: 60446"
   ]
  },
  {
   "cell_type": "code",
   "execution_count": 114,
   "metadata": {},
   "outputs": [
    {
     "data": {
      "text/plain": [
       "[1] 60446\n"
      ]
     },
     "metadata": {},
     "output_type": "display_data"
    }
   ],
   "source": [
    "%%R\n",
    "length(unique(raw_ukb_covid$eid))"
   ]
  },
  {
   "cell_type": "markdown",
   "metadata": {},
   "source": [
    "For the the positive cases, I would like to know when they are first tested positive, i.e. the earliest date only. "
   ]
  },
  {
   "cell_type": "code",
   "execution_count": 6,
   "metadata": {
    "scrolled": true
   },
   "outputs": [],
   "source": [
    "%%R \n",
    "raw_ukb_covid.pos = subset(raw_ukb_covid, result == 1)\n",
    "raw_ukb_covid.pos_cur = aggregate(raw_ukb_covid.pos, list(raw_ukb_covid.pos$eid), FUN=head, 1)"
   ]
  },
  {
   "cell_type": "markdown",
   "metadata": {},
   "source": [
    "For the negative test results, I should keep the last date because that is the most up-to-date test. "
   ]
  },
  {
   "cell_type": "code",
   "execution_count": 7,
   "metadata": {},
   "outputs": [],
   "source": [
    "%%R \n",
    "raw_ukb_covid.neg = subset(raw_ukb_covid, result == 0)\n",
    "raw_ukb_covid.neg_cur = aggregate(raw_ukb_covid.neg, list(raw_ukb_covid.neg$eid), FUN=tail, 1)"
   ]
  },
  {
   "cell_type": "code",
   "execution_count": 8,
   "metadata": {},
   "outputs": [],
   "source": [
    "%%R\n",
    "ukb_covid_bind = rbind(raw_ukb_covid.pos_cur, raw_ukb_covid.neg_cur)"
   ]
  },
  {
   "cell_type": "code",
   "execution_count": 9,
   "metadata": {},
   "outputs": [
    {
     "data": {
      "text/plain": [
       "[1] \"63487 60446\"\n"
      ]
     },
     "metadata": {},
     "output_type": "display_data"
    }
   ],
   "source": [
    "%%R\n",
    "print(paste(length((ukb_covid_bind$eid)),length(unique(ukb_covid_bind$eid)),sep = \" \"))"
   ]
  },
  {
   "cell_type": "markdown",
   "metadata": {},
   "source": [
    "There are  ~3000 eids that are duplicates. I will sum them to keep the positive tests only, with the latest date."
   ]
  },
  {
   "cell_type": "code",
   "execution_count": 10,
   "metadata": {},
   "outputs": [
    {
     "data": {
      "text/plain": [
       "[1] 60446\n"
      ]
     },
     "metadata": {},
     "output_type": "display_data"
    }
   ],
   "source": [
    "%%R\n",
    "ukb_covid_bind = ukb_covid_bind[c(\"eid\",\"specdate\",\"result\")]\n",
    "ukb_covid_bind$specdate = as.Date(ukb_covid_bind$specdate,tryFormats = \"%d/%m/%Y\")\n",
    "ukb_covid_bind_test = aggregate(ukb_covid_bind, list(ukb_covid_bind$eid), FUN=max)[c(\"eid\",\"specdate\",\"result\")]\n",
    "nrow(ukb_covid_bind_test)"
   ]
  },
  {
   "cell_type": "code",
   "execution_count": 212,
   "metadata": {},
   "outputs": [
    {
     "data": {
      "text/plain": [
       "[1] 14877\n"
      ]
     },
     "metadata": {},
     "output_type": "display_data"
    }
   ],
   "source": [
    "%%R\n",
    "sum(ukb_covid_bind_test$result)"
   ]
  },
  {
   "cell_type": "markdown",
   "metadata": {},
   "source": [
    "### Save curated data\n",
    "\n",
    "The curated data now is: if a participant is positive, then save this result & date, if not, save the latest (most up-to-date) negative test result."
   ]
  },
  {
   "cell_type": "code",
   "execution_count": 12,
   "metadata": {},
   "outputs": [],
   "source": [
    "%%R\n",
    "write.csv(ukb_covid_bind_test,\"data_output/curated_ukb_covid_test_results.csv\", row.names=FALSE)"
   ]
  },
  {
   "cell_type": "markdown",
   "metadata": {},
   "source": [
    "## Mergeing the 2 parts of this dataset\n",
    "\n",
    "### Here, I will get the most up-to-date result\n",
    "\n",
    "### Subset the data with only the COVID-19-tested participants\n",
    "\n",
    "#### Select rows by chunk"
   ]
  },
  {
   "cell_type": "code",
   "execution_count": 41,
   "metadata": {},
   "outputs": [],
   "source": [
    "def UKB_select_rows(input_dt,row_list,output_dt):\n",
    "    input_name = str(''.join(input_dt))\n",
    "    row_list_name = str(''.join(row_list))\n",
    "    output_name = str(''.join(output_dt))\n",
    "\n",
    "    #get the list of IDs\n",
    "    ID_list_df = pd.read_csv(row_list_name, sep = ',', usecols = ['eid'], dtype={'eid': int})\n",
    "    selected_ID_list = ID_list_df['eid'].tolist()\n",
    "    #print(selected_ID_list)\n",
    "\n",
    "    df_chunk = pd.read_csv(input_name, sep = ',', chunksize=10000, \n",
    "                           encoding= 'unicode_escape')\n",
    "\n",
    "    #make a chunks list \n",
    "    chunk_list = []\n",
    "    # Each chunk is in df format\n",
    "    for chunk in df_chunk:  \n",
    "        # perform data filtering \n",
    "        chunk_filter = chunk[chunk['eid'].isin(selected_ID_list)]\n",
    "        print(\"10K done, still running...\")\n",
    "        #get the rows that are in the ID list\n",
    "        #print(chunk_filter)\n",
    "        # Once the data filtering is done, append the chunk to list\n",
    "        chunk_list.append(chunk_filter)\n",
    "        \n",
    "    # concat the list into dataframe \n",
    "    #header_chunk.append(chunk_list)\n",
    "    df_concat = pd.concat(chunk_list)\n",
    "    #print(df_concat)\n",
    "    df_concat.to_csv(output_name)"
   ]
  },
  {
   "cell_type": "markdown",
   "metadata": {},
   "source": [
    "#### Select rows by chunk"
   ]
  },
  {
   "cell_type": "code",
   "execution_count": 42,
   "metadata": {
    "scrolled": true
   },
   "outputs": [
    {
     "name": "stdout",
     "output_type": "stream",
     "text": [
      "10K done, still running...\n",
      "10K done, still running...\n",
      "10K done, still running...\n",
      "10K done, still running...\n",
      "10K done, still running...\n",
      "10K done, still running...\n",
      "10K done, still running...\n",
      "10K done, still running...\n",
      "10K done, still running...\n",
      "10K done, still running...\n",
      "10K done, still running...\n",
      "10K done, still running...\n",
      "10K done, still running...\n",
      "10K done, still running...\n",
      "10K done, still running...\n",
      "10K done, still running...\n",
      "10K done, still running...\n",
      "10K done, still running...\n",
      "10K done, still running...\n",
      "10K done, still running...\n",
      "10K done, still running...\n",
      "10K done, still running...\n",
      "10K done, still running...\n",
      "10K done, still running...\n",
      "10K done, still running...\n",
      "10K done, still running...\n",
      "10K done, still running...\n",
      "10K done, still running...\n",
      "10K done, still running...\n",
      "10K done, still running...\n",
      "10K done, still running...\n",
      "10K done, still running...\n",
      "10K done, still running...\n",
      "10K done, still running...\n",
      "10K done, still running...\n",
      "10K done, still running...\n",
      "10K done, still running...\n",
      "10K done, still running...\n",
      "10K done, still running...\n",
      "10K done, still running...\n",
      "10K done, still running...\n",
      "10K done, still running...\n",
      "10K done, still running...\n",
      "10K done, still running...\n",
      "10K done, still running...\n",
      "10K done, still running...\n",
      "10K done, still running...\n",
      "10K done, still running...\n",
      "10K done, still running...\n",
      "10K done, still running...\n",
      "10K done, still running...\n"
     ]
    }
   ],
   "source": [
    "UKB_select_rows(input_dt=\"data/phenodt.csv\",\n",
    "                row_list=\"data_output/curated_ukb_covid_test_results.csv\",\n",
    "               output_dt=\"data_output/full_ukb_covidTested_results.csv\")"
   ]
  },
  {
   "cell_type": "markdown",
   "metadata": {},
   "source": [
    "### Get the most up-to-date data from these participants\n"
   ]
  },
  {
   "cell_type": "code",
   "execution_count": 43,
   "metadata": {},
   "outputs": [],
   "source": [
    "%%R\n",
    "# load non-covid UKB phenotype data\n",
    "ukb_pheno_dt = read.csv(\"data_output/full_ukb_covidTested_results.csv\")[-1]\n",
    "#-1: delete first column of index from the previous function\n",
    "\n",
    "#aggregate the columns by selecting the last results, for each \n",
    "library(reshape)\n",
    "ukb_pheno_dt_t = melt(ukb_pheno_dt, id='eid')\n",
    "# head(ukb_pheno_dt_t)\n",
    "\n",
    "#order by variable to make sure I am will be replacing the latest value \n",
    "ukb_pheno_dt_t <- ukb_pheno_dt_t[order(ukb_pheno_dt_t$variable),] \n",
    "\n",
    "#delete everything after period \n",
    "ukb_pheno_dt_t$variable = gsub(\"\\\\..*\",\"\",ukb_pheno_dt_t$variable)\n",
    "\n",
    "#aggregate by last \n",
    "ukb_covid_t_na = na.omit(ukb_pheno_dt_t)\n",
    "ukb_covid_t_na = aggregate(ukb_covid_t_na, by=list(ukb_covid_t_na$eid,ukb_covid_t_na$variable), FUN=tail, n = 1)\n",
    "\n",
    "# Curate\n",
    "ukb_covid_t_na = ukb_covid_t_na[c(\"eid\", \"variable\", \"value\")]\n",
    "ukb_covid_t_na$variable = as.factor(ukb_covid_t_na$variable)\n",
    "\n",
    "# put it back straight \n",
    "ukb_covid_cur = cast(ukb_covid_t_na, eid~variable)\n"
   ]
  },
  {
   "cell_type": "markdown",
   "metadata": {},
   "source": [
    "### Decode with the UK Biobank values"
   ]
  },
  {
   "cell_type": "markdown",
   "metadata": {},
   "source": [
    "#### Prepare encodings"
   ]
  },
  {
   "cell_type": "code",
   "execution_count": 44,
   "metadata": {},
   "outputs": [],
   "source": [
    "%%R\n",
    "#get levels and labels \n",
    "lvl.0493 <- c(-141,-131,-121,0)\n",
    "lbl.0493 <- c(\"Often\",\"Sometimes\",\"Do not know\",\"Rarely/never\")\n",
    "\n",
    "lvl.0007 <- c(0,1)\n",
    "lbl.0007 <- c(\"FALSE\",\"TRUE\")\n",
    "\n",
    "lvl.100349 <- c(-3,-1,0,1)\n",
    "lbl.100349 <- c(\"Prefer not to answer\",\"Do not know\",\"FALSE\",\"TRUE\")\n",
    "\n",
    "lvl.0090 <- c(-3,0,1,2)\n",
    "lbl.0090 <- c(\"Prefer not to answer\",\"Never\",\"Previous\",\"Current\")\n",
    "\n",
    "lvl.0009 <- c(0,1)\n",
    "lbl.0009 <- c(\"Female\",\"Male\")\n",
    "\n",
    "lvl.0272 <- c(1)\n",
    "lbl.0272 <- c(\"Date is unknown\")\n",
    "\n",
    "lvl.0300 <- c(0,1,2)\n",
    "lbl.0300 <- c(\"Self-reported only\",\"Hospital admission\",\"Death only\")\n",
    "\n",
    "lvl.100290 <- c(-10,-3,-1)\n",
    "lbl.100290 <- c(\"Less than a year\",\"Prefer not to answer\",\"Do not know\")\n",
    "\n",
    "lvl.100291 <- c(-3,-1)\n",
    "lbl.100291 <- c(\"Prefer not to answer\",\"Do not know\")\n",
    "\n",
    "lvl.100294 <- c(-3,-1,1,2,3,4,5)\n",
    "lbl.100294 <- c(\"Prefer not to answer\",\"Do not know\",\n",
    "                \"Less than 18,000\",\"18,000 to 30,999\",\"31,000 to 51,999\",\n",
    "                \"52,000 to 100,000\",\"Greater than 100,000\")\n",
    "\n",
    "lvl.100298 <- c(-10,-3,-1)\n",
    "lbl.100298 <- c(\"Less than once a week\",\"Prefer not to answer\",\"Do not know\")\n",
    "\n",
    "lvl.1001 <- c(-3,-1,1001,1002,1003,2001,2002,2003,2004,3001,3002,3003,3004,4001,4002,4003,1,2,3,4,5,6)\n",
    "lbl.1001 <- c(\"Prefer not to answer\",\"Do not know\",\n",
    "              \"British\",\"Irish\",\"Any other white background\",\"White and Black Caribbean\",\n",
    "              \"White and Black African\",\"White and Asian\",\"Any other mixed background\",\"Indian\",\n",
    "              \"Pakistani\",\"Bangladeshi\",\"Any other Asian background\",\"Caribbean\",\"African\",\"Any other Black background\",\n",
    "              \"White\",\"Mixed\",\"Asian or Asian British\",\"Black or Black British\",\"Chinese\",\"Other ethnic group\")\n",
    "\n",
    "### eid replacement, saved here ----\n",
    "yy_replace <- function(string, patterns, replacements) {\n",
    "  for (i in seq_along(patterns))\n",
    "    string <- gsub(patterns[i], replacements[i], string, perl=TRUE)\n",
    "  string\n",
    "}\n",
    "#label = replacement, lvl = to replace\n"
   ]
  },
  {
   "cell_type": "markdown",
   "metadata": {},
   "source": [
    "#### Decode UKB phenotype data"
   ]
  },
  {
   "cell_type": "code",
   "execution_count": 45,
   "metadata": {},
   "outputs": [],
   "source": [
    "%%R\n",
    "ukb_covid_decode = ukb_covid_cur"
   ]
  },
  {
   "cell_type": "code",
   "execution_count": 46,
   "metadata": {},
   "outputs": [
    {
     "data": {
      "text/plain": [
       " [1] \"eid\"    \"X134\"   \"X189\"   \"X20074\" \"X20075\" \"X20116\" \"X20153\" \"X21000\"\n",
       " [9] \"X22130\" \"X22609\" \"X2316\"  \"X2443\"  \"X31\"    \"X34\"    \"X4079\"  \"X4080\" \n",
       "[17] \"X42019\" \"X48\"    \"X49\"    \"X50\"    \"X709\"   \"X738\"   \"X777\"  \n"
      ]
     },
     "metadata": {},
     "output_type": "display_data"
    }
   ],
   "source": [
    "%%R\n",
    "colnames(ukb_covid_decode)"
   ]
  },
  {
   "cell_type": "code",
   "execution_count": 47,
   "metadata": {},
   "outputs": [],
   "source": [
    "%%R\n",
    "ukb_covid_decode$X22609 <- yy_replace(ukb_covid_decode$X22609, lvl.0493, lbl.0493)\n",
    "\n",
    "ukb_covid_decode$X2316 <- yy_replace(ukb_covid_decode$X2316, lvl.100349, lbl.100349)\n",
    "ukb_covid_decode$X31 <- yy_replace(ukb_covid_decode$X31, lvl.0009, lbl.0009)\n",
    "ukb_covid_decode$X22130 <- yy_replace(ukb_covid_decode$X22130, lvl.0007, lbl.0007)\n",
    "\n",
    "ukb_covid_decode$X20116 <- yy_replace(ukb_covid_decode$X20116, lvl.0090, lbl.0090)\n",
    "\n",
    "ukb_covid_decode$X42019 <- yy_replace(ukb_covid_decode$X42019, lvl.0300, lbl.0300)\n",
    "\n",
    "ukb_covid_decode$X709 <- yy_replace(ukb_covid_decode$X709, lvl.100291, lbl.100291)\n",
    "\n",
    "ukb_covid_decode$X777 <- yy_replace(ukb_covid_decode$X777, lvl.100298, lbl.100298)\n",
    "\n",
    "#household income\n",
    "\n",
    "ukb_covid_decode$X738 <- ordered(ukb_covid_decode$X738, levels = lvl.100294, \n",
    "                                 labels = lbl.100294)\n",
    "\n",
    "#ethnicity\n",
    "ukb_covid_decode$X21000 <- ordered(ukb_covid_decode$X21000, levels = lvl.1001, \n",
    "                                  labels = lbl.1001)\n"
   ]
  },
  {
   "cell_type": "markdown",
   "metadata": {},
   "source": [
    "#### Assign custom column names"
   ]
  },
  {
   "cell_type": "code",
   "execution_count": 48,
   "metadata": {
    "scrolled": false
   },
   "outputs": [
    {
     "data": {
      "text/plain": [
       " [1] \"eid\"                    \"n_cancers\"              \"townsend\"              \n",
       " [4] \"x_coord\"                \"y_coord\"                \"smoking\"               \n",
       " [7] \"fev\"                    \"ethnicity\"              \"copd\"                  \n",
       "[10] \"WP_dusty\"               \"whistling\"              \"diabetes\"              \n",
       "[13] \"sex\"                    \"birthYear\"              \"diaBP\"                 \n",
       "[16] \"sysBP\"                  \"dementia\"               \"waist\"                 \n",
       "[19] \"hip\"                    \"height\"                 \"peopleInHousehold\"     \n",
       "[22] \"AverageHouseholdIncome\" \"travelToWork\"          \n"
      ]
     },
     "metadata": {},
     "output_type": "display_data"
    }
   ],
   "source": [
    "%%R\n",
    "#get the ID that I designed\n",
    "UID_names = read.csv(\"data/metadt.csv\")[c(\"FieldID\",\"my_colname\")]\n",
    "UID_names$FieldID = paste(\"X\",UID_names$FieldID, sep = \"\")\n",
    "UID_names$my_colname = lapply(UID_names$my_colname,toString)\n",
    "UID_names[nrow(UID_names) + 1,] = c(\"eid\",\"eid\")\n",
    "\n",
    "# sort it according to the dataset\n",
    "\n",
    "UID_names_match = colnames(ukb_covid_cur)\n",
    "\n",
    "UID_sort_df = data.frame(UID_names_match)\n",
    "colnames(UID_sort_df) <- \"FieldID\"\n",
    "\n",
    "#merge to sort\n",
    "UID_sort_df = merge(UID_sort_df, UID_names, by = \"FieldID\")\n",
    "# this is now sorted according to the correct df\n",
    "\n",
    "#replace column names\n",
    "ukb_covid_pheno_df = ukb_covid_decode\n",
    "\n",
    "colnames(ukb_covid_pheno_df) <- UID_sort_df$my_colname\n",
    "colnames(ukb_covid_pheno_df)"
   ]
  },
  {
   "cell_type": "markdown",
   "metadata": {},
   "source": [
    "### Merge the UK Biobank phenotype data with the UK Biobank COVID-19 data"
   ]
  },
  {
   "cell_type": "code",
   "execution_count": 49,
   "metadata": {},
   "outputs": [],
   "source": [
    "%%R \n",
    "ukb_covid_pheno_merged = merge(ukb_covid_pheno_df, ukb_covid_bind_test, by = \"eid\")\n",
    "write.csv(ukb_covid_pheno_merged,\"data_output/ukb_covid19_pheno_merged.csv\", row.names=FALSE)"
   ]
  },
  {
   "cell_type": "markdown",
   "metadata": {},
   "source": [
    "#### Curate the dementia diagnosis data"
   ]
  },
  {
   "cell_type": "code",
   "execution_count": 50,
   "metadata": {
    "scrolled": true
   },
   "outputs": [],
   "source": [
    "%%R \n",
    "ukb_covid_pheno_merged = read.csv(\"data_output/ukb_covid19_pheno_merged.csv\")\n",
    "# PD diagnosis\n",
    "library(dplyr)\n",
    "# Ad diagnosis\n",
    "ukb_covid_pheno_merged = ukb_covid_pheno_merged %>%\n",
    "  mutate(Dem_diag = c(\"FALSE\", \"TRUE\")[(!is.na(dementia)\n",
    "                                     )+1] )"
   ]
  },
  {
   "cell_type": "markdown",
   "metadata": {},
   "source": [
    "#### Hypertension / high blood pressure calculations"
   ]
  },
  {
   "cell_type": "code",
   "execution_count": 51,
   "metadata": {},
   "outputs": [],
   "source": [
    "%%R\n",
    "ukb_covid_pheno_merged = ukb_covid_pheno_merged %>%\n",
    "  mutate(highBP = c(\"FALSE\", \"TRUE\")[(diaBP >= 90 | sysBP > 140\n",
    "                                     )+1] )"
   ]
  },
  {
   "cell_type": "markdown",
   "metadata": {},
   "source": [
    "#### Calculate Age: 2021 - birth year"
   ]
  },
  {
   "cell_type": "code",
   "execution_count": 52,
   "metadata": {},
   "outputs": [],
   "source": [
    "%%R \n",
    "ukb_covid_pheno_merged$age = 2020 - ukb_covid_pheno_merged$birthYear"
   ]
  },
  {
   "cell_type": "markdown",
   "metadata": {},
   "source": [
    "#### Drop the unused columns"
   ]
  },
  {
   "cell_type": "code",
   "execution_count": 53,
   "metadata": {},
   "outputs": [],
   "source": [
    "%%R \n",
    "vars_drop = c(\"specdate\",\"diaBP\",\"sysBP\")\n",
    "ukb_covid_pheno_subset = ukb_covid_pheno_merged[ , !(names(ukb_covid_pheno_merged) %in% vars_drop)]"
   ]
  },
  {
   "cell_type": "code",
   "execution_count": 54,
   "metadata": {},
   "outputs": [],
   "source": [
    "%%R\n",
    "write.csv(ukb_covid_pheno_subset,\"data_output/merged_ukb_covid_test_results.csv\", row.names=FALSE)"
   ]
  },
  {
   "cell_type": "markdown",
   "metadata": {},
   "source": [
    "### Assign population density"
   ]
  },
  {
   "cell_type": "markdown",
   "metadata": {},
   "source": [
    "Use the modelled N of people per 30m2\n",
    "For the population density data, I downloaded the most precise and up-to-date models. This data has longitude and latitude values for every 30m2 as well as the modelled population value. In other words, these are estimations of \"the number of people living within 30-meter grid tiles in nearly every country around the world.\" - as stated on their website.\n",
    "\n",
    "Citation:\n",
    "Facebook Connectivity Lab and Center for International Earth Science Information Network - CIESIN - Columbia University. 2016. High Resolution Settlement Layer (HRSL). Source imagery for HRSL © 2016 DigitalGlobe. Accessed 25 JUNE 2020.\n",
    "\n",
    "Note: This dataset is NOT included in this repository because it is too large. The raw data can be downloaded here: https://data.humdata.org/dataset/united-kingdom-high-resolution-population-density-maps-demographic-estimates"
   ]
  },
  {
   "cell_type": "code",
   "execution_count": 55,
   "metadata": {},
   "outputs": [
    {
     "name": "stderr",
     "output_type": "stream",
     "text": [
      "/Users/yizhouyu/miniconda3/envs/yy_37_env2/lib/python3.7/site-packages/rpy2/rinterface/__init__.py:146: RRuntimeWarning: rgdal: version: 1.4-4, (SVN revision 833)\n",
      " Geospatial Data Abstraction Library extensions to R successfully loaded\n",
      " Loaded GDAL runtime: GDAL 2.4.2, released 2019/06/28\n",
      " Path to GDAL shared files: /Users/yizhouyu/miniconda3/share/gdal\n",
      " GDAL binary built with GEOS: TRUE \n",
      " Loaded PROJ.4 runtime: Rel. 6.1.0, May 15th, 2019, [PJ_VERSION: 610]\n",
      " Path to PROJ.4 shared files: /Users/yizhouyu/miniconda3/share/proj\n",
      " Linking to sp version: 1.3-1 \n",
      "\n",
      "  warnings.warn(x, RRuntimeWarning)\n"
     ]
    }
   ],
   "source": [
    "%%R\n",
    "ukb_covid_pheno_subset = read.csv(\"data_output/merged_ukb_covid_test_results.csv\")\n",
    "ukgrid <- \"+init=epsg:27700\"\n",
    "latlong <- \"+init=epsg:4326\"\n",
    "\n",
    "ukb_coords = na.omit(ukb_covid_pheno_subset[c(\"eid\",\"x_coord\",\"y_coord\")])\n",
    "ukb_coords_NE <- data.frame(cbind(Easting = as.numeric(as.character(ukb_coords$x_coord)),\n",
    "                     Northing = as.numeric(as.character(ukb_coords$y_coord))))\n",
    "### Create the SpatialPointsDataFrame\n",
    "library(sp)\n",
    "ukb_covid_SP <- SpatialPointsDataFrame(ukb_coords_NE,\n",
    "                                  data = ukb_coords,\n",
    "                                  proj4string = CRS(\"+init=epsg:27700\"))\n",
    "library(rgdal)\n",
    "ukb_covid_ll <- spTransform(ukb_covid_SP, CRS(latlong))\n",
    "\n",
    "ukb_covid_ll_df = data.frame('ukb_lon' = coordinates(ukb_covid_ll)[, 1], \n",
    "                             'ukb_lat' = coordinates(ukb_covid_ll)[, 2], \n",
    "                             'eid' = ukb_covid_ll$eid)\n",
    "write.csv(ukb_covid_ll_df, (\"data_output/ukb_covid_lonlat_df.csv\"))"
   ]
  },
  {
   "cell_type": "code",
   "execution_count": 56,
   "metadata": {},
   "outputs": [],
   "source": [
    "pop_dens = pd.read_csv('data/population_gbr_2019-07-01.csv')"
   ]
  },
  {
   "cell_type": "code",
   "execution_count": 57,
   "metadata": {},
   "outputs": [],
   "source": [
    "#build functions\n",
    "from sklearn.neighbors import BallTree\n",
    "import numpy as np\n",
    "\n",
    "def get_nearest(src_points, candidates, k_neighbors=1):\n",
    "    \"\"\"Find nearest neighbors for all source points from a set of candidate points\"\"\"\n",
    "\n",
    "    # Create tree from the candidate points\n",
    "    tree = BallTree(candidates, leaf_size=15, metric='haversine')\n",
    "\n",
    "    # Find closest points and distances\n",
    "    distances, indices = tree.query(src_points, k=k_neighbors)\n",
    "\n",
    "    # Transpose to get distances and indices into arrays\n",
    "    distances = distances.transpose()\n",
    "    indices = indices.transpose()\n",
    "\n",
    "    # Get closest indices and distances (i.e. array at index 0)\n",
    "    # note: for the second closest points, you would take index 1, etc.\n",
    "    closest = indices[0]\n",
    "    closest_dist = distances[0]\n",
    "\n",
    "    # Return indices and distances\n",
    "    return (closest, closest_dist)\n",
    "\n",
    "\n",
    "def nearest_neighbor(left_gdf, right_gdf, return_dist=False):\n",
    "    \"\"\"\n",
    "    For each point in left_gdf, find closest point in right GeoDataFrame and return them.\n",
    "\n",
    "    NOTICE: Assumes that the input Points are in WGS84 projection (lat/lon).\n",
    "    \"\"\"\n",
    "\n",
    "    left_geom_col = left_gdf.geometry.name\n",
    "    right_geom_col = right_gdf.geometry.name\n",
    "\n",
    "    # Ensure that index in right gdf is formed of sequential numbers\n",
    "    right = right_gdf.copy().reset_index(drop=True)\n",
    "\n",
    "    # Parse coordinates from points and insert them into a numpy array as RADIANS\n",
    "    left_radians = np.array(left_gdf[left_geom_col].apply(lambda geom: (geom.x * np.pi / 180, geom.y * np.pi / 180)).to_list())\n",
    "    right_radians = np.array(right[right_geom_col].apply(lambda geom: (geom.x * np.pi / 180, geom.y * np.pi / 180)).to_list())\n",
    "\n",
    "    # Find the nearest points\n",
    "    # -----------------------\n",
    "    # closest ==> index in right_gdf that corresponds to the closest point\n",
    "    # dist ==> distance between the nearest neighbors (in meters)\n",
    "\n",
    "    closest, dist = get_nearest(src_points=left_radians, candidates=right_radians)\n",
    "\n",
    "    # Return points from right GeoDataFrame that are closest to points in left GeoDataFrame\n",
    "    closest_points = right.loc[closest]\n",
    "\n",
    "    # Ensure that the index corresponds the one in left_gdf\n",
    "    closest_points = closest_points.reset_index(drop=True)\n",
    "\n",
    "    # Add distance if requested\n",
    "    if return_dist:\n",
    "        # Convert to meters from radians\n",
    "        earth_radius = 6371000  # meters\n",
    "        closest_points['distance'] = dist * earth_radius\n",
    "\n",
    "    return closest_points"
   ]
  },
  {
   "cell_type": "code",
   "execution_count": 120,
   "metadata": {},
   "outputs": [],
   "source": [
    "import geopandas as gpd\n",
    "ukb_covid_df = pd.read_csv(\"data_output/ukb_covid_lonlat_df.csv\", usecols=['ukb_lon','ukb_lat','eid'])\n",
    "ukb_covid = pd.read_csv(\"data_output/merged_ukb_covid_test_results.csv\")\n",
    "\n",
    "ukb_covid_gdf = gpd.GeoDataFrame(\n",
    "    ukb_covid_df, geometry=gpd.points_from_xy(ukb_covid_df.ukb_lon, ukb_covid_df.ukb_lat))\n",
    "\n",
    "\n",
    "pop_dens_gdf = gpd.GeoDataFrame(\n",
    "    pop_dens, geometry=gpd.points_from_xy(pop_dens.Lon, pop_dens.Lat))\n",
    "pop_dens_matched_df = nearest_neighbor(ukb_covid_gdf, pop_dens_gdf, return_dist=True).rename(columns={'geometry': 'pop_dens_geom'})\n",
    "#join\n",
    "pop_dens_joined_df = ukb_covid_gdf.join(pop_dens_matched_df)[[\"eid\", \"Population\"]]\n",
    "ukb_covid_AP_popDens_merged = pd.merge(ukb_covid, pop_dens_joined_df, on='eid',  how = 'left')\n",
    "# ukb_covid_AP_popDens_merged.head()"
   ]
  },
  {
   "cell_type": "code",
   "execution_count": 121,
   "metadata": {},
   "outputs": [],
   "source": [
    "ukb_covid_AP_popDens_merged.to_csv(\"data_output/ukbCov_ukb_covid_AP_popDens_merged.csv\", index = False)"
   ]
  },
  {
   "cell_type": "markdown",
   "metadata": {},
   "source": [
    "## Merge generated data with data from the UK Biobank"
   ]
  },
  {
   "cell_type": "code",
   "execution_count": 122,
   "metadata": {},
   "outputs": [],
   "source": [
    "ukb_covid_AP_popDens_merged['whr'] = ukb_covid_AP_popDens_merged['waist']/ukb_covid_AP_popDens_merged['hip']\n",
    "ukb_covid_AP_popDens_merged.to_csv(\"data_output/ukb_covid_merged_full_curatedData.csv\")"
   ]
  },
  {
   "cell_type": "code",
   "execution_count": 125,
   "metadata": {},
   "outputs": [
    {
     "data": {
      "text/plain": [
       "(60446, 27)"
      ]
     },
     "execution_count": 125,
     "metadata": {},
     "output_type": "execute_result"
    }
   ],
   "source": [
    "ukb_covid_AP_popDens_merged.shape"
   ]
  },
  {
   "cell_type": "markdown",
   "metadata": {},
   "source": [
    "Note that some participants did not provide location data."
   ]
  },
  {
   "cell_type": "markdown",
   "metadata": {},
   "source": [
    "### Drop unused columns"
   ]
  },
  {
   "cell_type": "code",
   "execution_count": 70,
   "metadata": {},
   "outputs": [
    {
     "name": "stdout",
     "output_type": "stream",
     "text": [
      "eid\n",
      "n_cancers\n",
      "townsend\n",
      "x_coord\n",
      "y_coord\n",
      "smoking\n",
      "fev\n",
      "ethnicity\n",
      "copd\n",
      "WP_dusty\n",
      "whistling\n",
      "diabetes\n",
      "sex\n",
      "birthYear\n",
      "dementia\n",
      "waist\n",
      "hip\n",
      "height\n",
      "peopleInHousehold\n",
      "AverageHouseholdIncome\n",
      "travelToWork\n",
      "result\n",
      "Dem_diag\n",
      "highBP\n",
      "age\n",
      "Population\n",
      "whr\n"
     ]
    }
   ],
   "source": [
    "for col in ukb_covid_AP_popDens_merged.columns: \n",
    "    print(col) "
   ]
  },
  {
   "cell_type": "code",
   "execution_count": 126,
   "metadata": {},
   "outputs": [],
   "source": [
    "ukb_covidAP = ukb_covid_AP_popDens_merged.drop([\n",
    "                       'x_coord','y_coord',\n",
    "                        'fev','dementia',\n",
    "                        'birthYear'], axis=1)\n",
    "ukb_covidAP.to_csv(\"data_output/ukb_covid_merged_full_curatedData.csv\", index = False)"
   ]
  },
  {
   "cell_type": "markdown",
   "metadata": {},
   "source": [
    "### Add 2 more variables to the list: education and care home\n",
    "\n",
    "I extracted these variables and stored them in a separate folder so that they are not uploaded on github. Access to those data should be done via UK Biobank. \n",
    "\n",
    "#### Get the most up-to-date data from these participants"
   ]
  },
  {
   "cell_type": "code",
   "execution_count": 73,
   "metadata": {},
   "outputs": [
    {
     "data": {
      "text/plain": [
       "      eid X6138 X670\n",
       "1 1000013     2    1\n",
       "2 1000024    -7    1\n",
       "3 1000036     3    1\n",
       "4 1000048     6    1\n",
       "5 1000055     2    1\n",
       "6 1000067     6    1\n"
      ]
     },
     "metadata": {},
     "output_type": "display_data"
    }
   ],
   "source": [
    "%%R\n",
    "\n",
    "care_home_edu_dt = read.csv(\"data/care_home_edu_dt.csv\")\n",
    "\n",
    "#aggregate the columns by selecting the last results, for each \n",
    "library(reshape)\n",
    "care_home_edu_dt_t = melt(care_home_edu_dt, id='eid')\n",
    "\n",
    "#order by variable to make sure I am will be replacing the latest value \n",
    "care_home_edu_dt_t <- care_home_edu_dt_t[order(care_home_edu_dt_t$variable),] \n",
    "#delete everything after period \n",
    "care_home_edu_dt_t$variable = gsub(\"\\\\..*\",\"\",care_home_edu_dt_t$variable)\n",
    "\n",
    "#aggregate by last \n",
    "care_home_edu_dt_t_na = na.omit(care_home_edu_dt_t)\n",
    "care_home_edu_dt_t_na = aggregate(care_home_edu_dt_t_na, by=list(care_home_edu_dt_t_na$eid,care_home_edu_dt_t_na$variable), FUN=tail, n = 1)\n",
    "# Curate\n",
    "care_home_edu_dt_t_na = care_home_edu_dt_t_na[c(\"eid\", \"variable\", \"value\")]\n",
    "care_home_edu_dt_t_na$variable = as.factor(care_home_edu_dt_t_na$variable)\n",
    "\n",
    "# put it back straight \n",
    "care_home_edu_cur = cast(care_home_edu_dt_t_na, eid~variable)\n",
    "head(care_home_edu_cur)"
   ]
  },
  {
   "cell_type": "markdown",
   "metadata": {},
   "source": [
    "#### Decode \n",
    "\n",
    "Prefer not to answer is considered as NA"
   ]
  },
  {
   "cell_type": "code",
   "execution_count": 74,
   "metadata": {},
   "outputs": [],
   "source": [
    "%%R\n",
    "# I keep the ordered function because all of the variables need to be decoded\n",
    "care_home_edu_dec = care_home_edu_cur\n",
    "#housing\n",
    "lvl.100286 <- c(-7,-3,1,2,3,4,5)\n",
    "lbl.100286 <- c(\"None of the above\",\"NA\",\"A house or bungalow\",\"A flat, maisonette or apartment\",\"Mobile or temporary structure (i.e. caravan)\",\"Sheltered accommodation\",\"Care home\")\n",
    "\n",
    "care_home_edu_dec$X670 <- ordered(care_home_edu_dec$X670, levels=lvl.100286, labels=lbl.100286)\n",
    "\n",
    "\n",
    "#education\n",
    "lvl.100305 <- c(-7,-3,1,2,3,4,5,6)\n",
    "lbl.100305 <- c(\"None of the above\",\"NA\",\"College or University degree\",\"A levels/AS levels or equivalent\",\"O levels/GCSEs or equivalent\",\"CSEs or equivalent\",\"NVQ or HND or HNC or equivalent\",\"Other professional qualifications eg: nursing, teaching\")\n",
    "care_home_edu_dec$X6138 <- ordered(care_home_edu_dec$X6138, levels=lvl.100305, labels=lbl.100305)\n",
    "colnames(care_home_edu_dec) <- c(\"eid\",\"edu_level\",\"house_type\")\n",
    "write.csv(care_home_edu_dec,\"data_output/care_home_edu_decoded.csv\", row.names = FALSE)"
   ]
  },
  {
   "cell_type": "code",
   "execution_count": 132,
   "metadata": {},
   "outputs": [],
   "source": [
    "%%R\n",
    "#Merge to data\n",
    "temp_merged = merge(read.csv(\"data_output/ukb_covid_merged_full_curatedData.csv\"), \n",
    "                    read.csv(\"data_output/care_home_edu_decoded.csv\"), by = \"eid\", all.x = TRUE)\n",
    "write.csv(temp_merged,\"data_output/ukb_covid_phenodt.csv\")"
   ]
  },
  {
   "cell_type": "markdown",
   "metadata": {},
   "source": [
    "### Replace \"No Answer\" as NA"
   ]
  },
  {
   "cell_type": "code",
   "execution_count": 133,
   "metadata": {},
   "outputs": [],
   "source": [
    "%%R\n",
    "ukb_covidAP = read.csv(\"data_output/ukb_covid_phenodt.csv\")\n",
    "ukb_covidAP[] <- lapply(ukb_covidAP, function(x) (gsub(\"Prefer not to answer\", \"NA\", x)))\n",
    "ukb_covidAP[] <- lapply(ukb_covidAP, function(x) (gsub(\"Do not know\", \"NA\", x)))\n",
    "\n",
    "ukb_covidAP$ethnicity_sim <- ifelse(ukb_covidAP$ethnicity == \"White\" | \n",
    "                                ukb_covidAP$ethnicity == \"British\", \"white\", \"minority\")\n",
    "write.csv(ukb_covidAP,\"data_output/ukb_covid_phenodt.csv\", row.names=FALSE)"
   ]
  },
  {
   "cell_type": "markdown",
   "metadata": {},
   "source": [
    "### Curate death data"
   ]
  },
  {
   "cell_type": "code",
   "execution_count": 135,
   "metadata": {
    "scrolled": true
   },
   "outputs": [
    {
     "data": {
      "text/plain": [
       "[1] 2031\n"
      ]
     },
     "metadata": {},
     "output_type": "display_data"
    }
   ],
   "source": [
    "%%R\n",
    "\n",
    "ukb_death = read.csv(\"data/death_cause_10022021.txt\", sep = \"\\t\")[c('eid', 'level', 'cause_icd10')]\n",
    "\n",
    "ukb_dt = read.csv('data_output/ukb_covid_phenodt.csv', sep = \",\")\n",
    "     \n",
    "ukb_dt_death = merge(ukb_dt, ukb_death, by = \"eid\")\n",
    "\n",
    "ukb_deaths_eids = unique(ukb_dt_death$eid)\n",
    "\n",
    "\n",
    "ukb_dt$death = ukb_dt$eid %in% ukb_deaths_eids\n",
    "\n",
    "print(sum(ukb_dt$death))\n",
    "\n",
    "write.csv(ukb_dt,\"data_output/ukb_covid_addDeath.csv\", row.names=FALSE)"
   ]
  },
  {
   "cell_type": "markdown",
   "metadata": {},
   "source": [
    "### Calculate the percentage of deaths related to COVID-19 & odds ratio\n",
    "\n",
    "29% of deaths were associated with COVID-19"
   ]
  },
  {
   "cell_type": "code",
   "execution_count": 83,
   "metadata": {
    "scrolled": true
   },
   "outputs": [
    {
     "data": {
      "text/plain": [
       "[1] 0.2880516\n"
      ]
     },
     "metadata": {},
     "output_type": "display_data"
    }
   ],
   "source": [
    "%%R\n",
    "\n",
    "ukb_dt = read.csv(\"data_output/ukb_covid_addDeath.csv\")\n",
    "ukb_dt_died = subset(ukb_dt, death == TRUE)\n",
    "\n",
    "print(sum(ukb_dt_died$result)/sum(ukb_dt$death))"
   ]
  },
  {
   "cell_type": "markdown",
   "metadata": {},
   "source": [
    "### Add drug-intake data\n",
    "\n",
    "### Subset the data to decrease processing time"
   ]
  },
  {
   "cell_type": "code",
   "execution_count": 84,
   "metadata": {},
   "outputs": [],
   "source": [
    "%%R\n",
    "\n",
    "med_raw = read.csv(\"data/medications_20003_dt.csv\")\n",
    "med_coding = read.csv(\"data/medications_coding4.tsv\", \n",
    "                     sep = \"\\t\")"
   ]
  },
  {
   "cell_type": "markdown",
   "metadata": {},
   "source": [
    "2038460150 - paracetamol <br>\n",
    "1140871310 - ibuprofen  <br>"
   ]
  },
  {
   "cell_type": "code",
   "execution_count": 85,
   "metadata": {},
   "outputs": [
    {
     "data": {
      "text/plain": [
       "[1] 2\n"
      ]
     },
     "metadata": {},
     "output_type": "display_data"
    }
   ],
   "source": [
    "%%R\n",
    "\n",
    "drug_list = c(\"paracetamol\",\"ibuprofen\")\n",
    "coding_subset = med_coding[med_coding$meaning %in% drug_list, ]\n",
    "# length(drug_list)\n",
    "nrow(coding_subset)"
   ]
  },
  {
   "cell_type": "code",
   "execution_count": 138,
   "metadata": {},
   "outputs": [
    {
     "data": {
      "text/plain": [
       "[1] 60446\n"
      ]
     },
     "metadata": {},
     "output_type": "display_data"
    }
   ],
   "source": [
    "%%R\n",
    "#subset \n",
    "eid_covid = read.csv(\"data_output/ukb_covid_addDeath.csv\")[,c(\"eid\")]\n",
    "\n",
    "med_covid = med_raw[med_raw$eid %in% eid_covid, ]\n",
    "\n",
    "nrow(med_covid)"
   ]
  },
  {
   "cell_type": "markdown",
   "metadata": {},
   "source": [
    "### Create separate columns for each of the 8 drugs investigated"
   ]
  },
  {
   "cell_type": "code",
   "execution_count": 88,
   "metadata": {
    "scrolled": true
   },
   "outputs": [
    {
     "data": {
      "text/plain": [
       "         coding     meaning\n",
       "2154 1140871310   ibuprofen\n",
       "6744 2038460150 paracetamol\n"
      ]
     },
     "metadata": {},
     "output_type": "display_data"
    }
   ],
   "source": [
    "%%R\n",
    "coding_subset"
   ]
  },
  {
   "cell_type": "code",
   "execution_count": 139,
   "metadata": {},
   "outputs": [],
   "source": [
    "%%R\n",
    "\n",
    "med_covid$ibuprofen = apply(med_covid, 1, function(x) any(x %in% c(\"1140871310\")))\n",
    "med_covid$paracetamol = apply(med_covid, 1, function(x) any(x %in% c(\"2038460150\")))                           \n"
   ]
  },
  {
   "cell_type": "code",
   "execution_count": 140,
   "metadata": {},
   "outputs": [],
   "source": [
    "%%R\n",
    "med_covid_out = med_covid[,c(\"eid\",\"ibuprofen\",\"paracetamol\")]\n",
    "\n",
    "write.csv(med_covid_out,\"data_output/covid_drug_subset.csv\",row.names=FALSE)\n"
   ]
  },
  {
   "cell_type": "markdown",
   "metadata": {},
   "source": [
    "### Check how many people take each drug in the drug dataset"
   ]
  },
  {
   "cell_type": "code",
   "execution_count": 141,
   "metadata": {},
   "outputs": [
    {
     "data": {
      "text/plain": [
       "  ibuprofen paracetamol \n",
       "       8277       13189 \n"
      ]
     },
     "metadata": {},
     "output_type": "display_data"
    }
   ],
   "source": [
    "%%R\n",
    "\n",
    "colSums(med_covid_out[,-1])"
   ]
  },
  {
   "cell_type": "markdown",
   "metadata": {},
   "source": [
    "### Merge and save"
   ]
  },
  {
   "cell_type": "code",
   "execution_count": 142,
   "metadata": {},
   "outputs": [],
   "source": [
    "%%R\n",
    "write.csv(merge(\n",
    "    read.csv(\n",
    "        \"data_output/ukb_covid_addDeath.csv\"),\n",
    "    read.csv(\"data_output/covid_drug_subset.csv\"), by = \"eid\",all.x = TRUE),\n",
    "          \"data_output/ukb_covid_addDrugs.csv\", row.names = F)\n"
   ]
  },
  {
   "cell_type": "markdown",
   "metadata": {},
   "source": [
    "# Relationship between ibuprofen & paracetamol and COVID-19 "
   ]
  },
  {
   "cell_type": "markdown",
   "metadata": {},
   "source": [
    "## Descriptive stats for the drugs"
   ]
  },
  {
   "cell_type": "code",
   "execution_count": 146,
   "metadata": {},
   "outputs": [],
   "source": [
    "%%R\n",
    "ukb_dt = read.csv(\"data_output/ukb_covid_addDrugs.csv\")\n",
    "ukb_dt$covid_death = ifelse(ukb_dt$result == 1 & ukb_dt$death == TRUE, \n",
    "1, 0)\n",
    "\n",
    "library(arsenal)\n",
    "\n",
    "ukb_descript_stats <- tableby(covid_death ~ ., data = ukb_dt[,2:ncol(ukb_dt)])\n",
    "\n",
    "write2word(ukb_descript_stats, \"ukb_descriptStats_drugs_death.doc\",\n",
    "  keep.md = TRUE,\n",
    "  quiet = TRUE, # passed to rmarkdown::render\n",
    "  title = \"Descriptive statistics of the UK Biobank data\") # passed to summary.tableby"
   ]
  },
  {
   "cell_type": "code",
   "execution_count": 147,
   "metadata": {},
   "outputs": [],
   "source": [
    "%%R\n",
    "ukb_descript_stats <- tableby(result ~ ., data = ukb_dt[,2:ncol(ukb_dt)])\n",
    "\n",
    "write2word(ukb_descript_stats, \"ukb_descriptStats_drugs_infection.doc\",\n",
    "  keep.md = TRUE,\n",
    "  quiet = TRUE, # passed to rmarkdown::render\n",
    "  title = \"Descriptive statistics of the UK Biobank data\") # passed to summary.tableby"
   ]
  },
  {
   "cell_type": "code",
   "execution_count": 148,
   "metadata": {
    "scrolled": true
   },
   "outputs": [
    {
     "data": {
      "text/plain": [
       " [1] \"eid\"                    \"X\"                      \"n_cancers\"             \n",
       " [4] \"townsend\"               \"smoking\"                \"ethnicity\"             \n",
       " [7] \"copd\"                   \"WP_dusty\"               \"whistling\"             \n",
       "[10] \"diabetes\"               \"sex\"                    \"waist\"                 \n",
       "[13] \"hip\"                    \"height\"                 \"peopleInHousehold\"     \n",
       "[16] \"AverageHouseholdIncome\" \"travelToWork\"           \"result\"                \n",
       "[19] \"Dem_diag\"               \"highBP\"                 \"age\"                   \n",
       "[22] \"Population\"             \"whr\"                    \"edu_level\"             \n",
       "[25] \"house_type\"             \"ethnicity_sim\"          \"death\"                 \n",
       "[28] \"ibuprofen\"              \"paracetamol\"            \"covid_death\"           \n"
      ]
     },
     "metadata": {},
     "output_type": "display_data"
    }
   ],
   "source": [
    "%%R\n",
    "colnames(ukb_dt)"
   ]
  },
  {
   "cell_type": "code",
   "execution_count": 213,
   "metadata": {},
   "outputs": [],
   "source": [
    "%%R\n",
    "\n",
    "ukb_dt = read.csv(\"data_output/ukb_covid_addDrugs.csv\")\n",
    "ukb_dt$covid_death = ifelse(ukb_dt$result == 1 & ukb_dt$death == TRUE, \n",
    "1, 0)\n",
    "\n",
    "ukb_dt_subset = na.omit(subset(ukb_dt, select = c(covid_death,result,sex, age, townsend, n_cancers, diabetes, whr, edu_level,\n",
    "                peopleInHousehold, Population, ethnicity_sim, house_type,highBP,Dem_diag,copd,whistling)))\n",
    "\n",
    "death_general = glm(formula = covid_death ~ sex + age +townsend + n_cancers + diabetes + whr + edu_level+\n",
    "                peopleInHousehold + Population + ethnicity_sim + house_type+highBP+Dem_diag+copd+whistling,                   \n",
    "    family = \"binomial\", data = ukb_dt_subset)\n",
    "infection_general = glm(formula = result ~ sex + age +townsend + n_cancers + diabetes + whr + edu_level+\n",
    "                peopleInHousehold + Population + ethnicity_sim + house_type+highBP+Dem_diag+copd+whistling,                   \n",
    "    family = \"binomial\", data = ukb_dt_subset)"
   ]
  },
  {
   "cell_type": "code",
   "execution_count": 160,
   "metadata": {},
   "outputs": [
    {
     "data": {
      "text/plain": [
       "Start:  AIC=5421.58\n",
       "covid_death ~ sex + age + townsend + n_cancers + diabetes + whr + \n",
       "    edu_level + peopleInHousehold + Population + ethnicity_sim + \n",
       "    house_type + highBP + Dem_diag + copd + whistling\n",
       "\n",
       "                    Df Deviance    AIC\n",
       "- house_type         5   5372.9 5416.9\n",
       "- peopleInHousehold  1   5368.1 5420.1\n",
       "- Population         1   5368.6 5420.6\n",
       "<none>                   5367.6 5421.6\n",
       "- ethnicity_sim      1   5369.9 5421.9\n",
       "- n_cancers          1   5370.3 5422.3\n",
       "- edu_level          6   5380.9 5422.9\n",
       "- whistling          1   5371.9 5423.9\n",
       "- highBP             2   5374.3 5424.3\n",
       "- sex                1   5374.2 5426.2\n",
       "- copd               2   5379.9 5429.9\n",
       "- diabetes           1   5379.1 5431.1\n",
       "- townsend           1   5382.5 5434.5\n",
       "- whr                1   5394.8 5446.8\n",
       "- Dem_diag           1   5400.0 5452.0\n",
       "- age                1   5546.7 5598.7\n",
       "\n",
       "Step:  AIC=5416.89\n",
       "covid_death ~ sex + age + townsend + n_cancers + diabetes + whr + \n",
       "    edu_level + peopleInHousehold + Population + ethnicity_sim + \n",
       "    highBP + Dem_diag + copd + whistling\n",
       "\n",
       "                    Df Deviance    AIC\n",
       "- peopleInHousehold  1   5374.0 5416.0\n",
       "- Population         1   5374.0 5416.0\n",
       "<none>                   5372.9 5416.9\n",
       "- edu_level          6   5385.5 5417.5\n",
       "- n_cancers          1   5375.5 5417.5\n",
       "- ethnicity_sim      1   5375.6 5417.6\n",
       "- whistling          1   5377.1 5419.1\n",
       "- highBP             2   5379.5 5419.5\n",
       "+ house_type         5   5367.6 5421.6\n",
       "- sex                1   5379.7 5421.7\n",
       "- copd               2   5385.2 5425.2\n",
       "- diabetes           1   5384.6 5426.6\n",
       "- townsend           1   5396.1 5438.1\n",
       "- whr                1   5400.3 5442.3\n",
       "- Dem_diag           1   5405.1 5447.1\n",
       "- age                1   5550.2 5592.2\n",
       "\n",
       "Step:  AIC=5415.98\n",
       "covid_death ~ sex + age + townsend + n_cancers + diabetes + whr + \n",
       "    edu_level + Population + ethnicity_sim + highBP + Dem_diag + \n",
       "    copd + whistling\n",
       "\n",
       "                    Df Deviance    AIC\n",
       "- Population         1   5375.1 5415.1\n",
       "<none>                   5374.0 5416.0\n",
       "- ethnicity_sim      1   5376.3 5416.3\n",
       "- n_cancers          1   5376.6 5416.6\n",
       "- edu_level          6   5386.6 5416.6\n",
       "+ peopleInHousehold  1   5372.9 5416.9\n",
       "- whistling          1   5378.2 5418.2\n",
       "- highBP             2   5380.7 5418.7\n",
       "+ house_type         5   5368.1 5420.1\n",
       "- sex                1   5380.4 5420.4\n",
       "- copd               2   5386.2 5424.2\n",
       "- diabetes           1   5385.7 5425.7\n",
       "- townsend           1   5398.8 5438.8\n",
       "- whr                1   5401.6 5441.6\n",
       "- Dem_diag           1   5406.3 5446.3\n",
       "- age                1   5579.5 5619.5\n",
       "\n",
       "Step:  AIC=5415.07\n",
       "covid_death ~ sex + age + townsend + n_cancers + diabetes + whr + \n",
       "    edu_level + ethnicity_sim + highBP + Dem_diag + copd + whistling\n",
       "\n",
       "                    Df Deviance    AIC\n",
       "<none>                   5375.1 5415.1\n",
       "- ethnicity_sim      1   5377.5 5415.5\n",
       "- n_cancers          1   5377.7 5415.7\n",
       "- edu_level          6   5387.8 5415.8\n",
       "+ Population         1   5374.0 5416.0\n",
       "+ peopleInHousehold  1   5374.0 5416.0\n",
       "- whistling          1   5379.2 5417.2\n",
       "- highBP             2   5381.7 5417.7\n",
       "+ house_type         5   5369.1 5419.1\n",
       "- sex                1   5381.6 5419.6\n",
       "- copd               2   5387.2 5423.2\n",
       "- diabetes           1   5386.7 5424.7\n",
       "- townsend           1   5401.0 5439.0\n",
       "- whr                1   5402.7 5440.7\n",
       "- Dem_diag           1   5407.6 5445.6\n",
       "- age                1   5580.4 5618.4\n",
       "\n",
       "Call:\n",
       "glm(formula = covid_death ~ sex + age + townsend + n_cancers + \n",
       "    diabetes + whr + edu_level + ethnicity_sim + highBP + Dem_diag + \n",
       "    copd + whistling, family = \"binomial\", data = ukb_dt_subset)\n",
       "\n",
       "Deviance Residuals: \n",
       "    Min       1Q   Median       3Q      Max  \n",
       "-0.8214  -0.1514  -0.1010  -0.0640   3.8630  \n",
       "\n",
       "Coefficients:\n",
       "                                                                   Estimate\n",
       "(Intercept)                                                      -14.956897\n",
       "sexMale                                                            0.301899\n",
       "age                                                                0.102872\n",
       "townsend                                                           0.070675\n",
       "n_cancers                                                         -0.213333\n",
       "diabetes                                                           0.422905\n",
       "whr                                                                3.510299\n",
       "edu_levelCollege or University degree                              0.052544\n",
       "edu_levelCSEs or equivalent                                       -0.029902\n",
       "edu_levelNone of the above                                         0.338304\n",
       "edu_levelNVQ or HND or HNC or equivalent                           0.059375\n",
       "edu_levelO levels/GCSEs or equivalent                             -0.123028\n",
       "edu_levelOther professional qualifications eg: nursing, teaching   0.091946\n",
       "ethnicity_simwhite                                                -0.219149\n",
       "highBPFalse                                                       -0.487349\n",
       "highBPTrue                                                        -0.289264\n",
       "Dem_diagTrue                                                       1.391140\n",
       "copdFalse                                                         -0.469493\n",
       "copdTrue                                                          -0.264584\n",
       "whistlingTRUE                                                      0.198210\n",
       "                                                                 Std. Error\n",
       "(Intercept)                                                        0.882013\n",
       "sexMale                                                            0.119374\n",
       "age                                                                0.007932\n",
       "townsend                                                           0.013623\n",
       "n_cancers                                                          0.137605\n",
       "diabetes                                                           0.119932\n",
       "whr                                                                0.663514\n",
       "edu_levelCollege or University degree                              0.317413\n",
       "edu_levelCSEs or equivalent                                        0.379938\n",
       "edu_levelNone of the above                                         0.291447\n",
       "edu_levelNVQ or HND or HNC or equivalent                           0.307680\n",
       "edu_levelO levels/GCSEs or equivalent                              0.307300\n",
       "edu_levelOther professional qualifications eg: nursing, teaching   0.296439\n",
       "ethnicity_simwhite                                                 0.137105\n",
       "highBPFalse                                                        0.264388\n",
       "highBPTrue                                                         0.262085\n",
       "Dem_diagTrue                                                       0.208517\n",
       "copdFalse                                                          0.142175\n",
       "copdTrue                                                           0.587469\n",
       "whistlingTRUE                                                      0.096653\n",
       "                                                                 z value\n",
       "(Intercept)                                                      -16.958\n",
       "sexMale                                                            2.529\n",
       "age                                                               12.969\n",
       "townsend                                                           5.188\n",
       "n_cancers                                                         -1.550\n",
       "diabetes                                                           3.526\n",
       "whr                                                                5.290\n",
       "edu_levelCollege or University degree                              0.166\n",
       "edu_levelCSEs or equivalent                                       -0.079\n",
       "edu_levelNone of the above                                         1.161\n",
       "edu_levelNVQ or HND or HNC or equivalent                           0.193\n",
       "edu_levelO levels/GCSEs or equivalent                             -0.400\n",
       "edu_levelOther professional qualifications eg: nursing, teaching   0.310\n",
       "ethnicity_simwhite                                                -1.598\n",
       "highBPFalse                                                       -1.843\n",
       "highBPTrue                                                        -1.104\n",
       "Dem_diagTrue                                                       6.672\n",
       "copdFalse                                                         -3.302\n",
       "copdTrue                                                          -0.450\n",
       "whistlingTRUE                                                      2.051\n",
       "                                                                 Pr(>|z|)    \n",
       "(Intercept)                                                       < 2e-16 ***\n",
       "sexMale                                                          0.011439 *  \n",
       "age                                                               < 2e-16 ***\n",
       "townsend                                                         2.12e-07 ***\n",
       "n_cancers                                                        0.121061    \n",
       "diabetes                                                         0.000422 ***\n",
       "whr                                                              1.22e-07 ***\n",
       "edu_levelCollege or University degree                            0.868521    \n",
       "edu_levelCSEs or equivalent                                      0.937269    \n",
       "edu_levelNone of the above                                       0.245734    \n",
       "edu_levelNVQ or HND or HNC or equivalent                         0.846978    \n",
       "edu_levelO levels/GCSEs or equivalent                            0.688899    \n",
       "edu_levelOther professional qualifications eg: nursing, teaching 0.756433    \n",
       "ethnicity_simwhite                                               0.109954    \n",
       "highBPFalse                                                      0.065284 .  \n",
       "highBPTrue                                                       0.269722    \n",
       "Dem_diagTrue                                                     2.53e-11 ***\n",
       "copdFalse                                                        0.000959 ***\n",
       "copdTrue                                                         0.652437    \n",
       "whistlingTRUE                                                    0.040292 *  \n",
       "---\n",
       "Signif. codes:  0 ‘***’ 0.001 ‘**’ 0.01 ‘*’ 0.05 ‘.’ 0.1 ‘ ’ 1\n",
       "\n",
       "(Dispersion parameter for binomial family taken to be 1)\n",
       "\n",
       "    Null deviance: 5996.6  on 56589  degrees of freedom\n",
       "Residual deviance: 5375.1  on 56570  degrees of freedom\n",
       "AIC: 5415.1\n",
       "\n",
       "Number of Fisher Scoring iterations: 8\n",
       "\n"
      ]
     },
     "metadata": {},
     "output_type": "display_data"
    }
   ],
   "source": [
    "%%R\n",
    "\n",
    "library(MASS)\n",
    "# Stepwise regression model\n",
    "death_general_step <- stepAIC(death_general, direction = \"both\")\n",
    "summary(death_general_step)"
   ]
  },
  {
   "cell_type": "code",
   "execution_count": 214,
   "metadata": {},
   "outputs": [
    {
     "data": {
      "text/plain": [
       "Start:  AIC=59287.16\n",
       "result ~ sex + age + townsend + n_cancers + diabetes + whr + \n",
       "    edu_level + peopleInHousehold + Population + ethnicity_sim + \n",
       "    house_type + highBP + Dem_diag + copd + whistling\n",
       "\n",
       "                    Df Deviance   AIC\n",
       "- highBP             2    59234 59284\n",
       "- sex                1    59233 59285\n",
       "- Population         1    59233 59285\n",
       "- diabetes           1    59234 59286\n",
       "- whistling          1    59234 59286\n",
       "<none>                    59233 59287\n",
       "- ethnicity_sim      1    59248 59300\n",
       "- n_cancers          1    59254 59306\n",
       "- whr                1    59260 59312\n",
       "- house_type         5    59269 59313\n",
       "- Dem_diag           1    59278 59330\n",
       "- copd               2    59312 59362\n",
       "- townsend           1    59328 59380\n",
       "- peopleInHousehold  1    59362 59414\n",
       "- edu_level          6    59486 59528\n",
       "- age                1    60933 60985\n",
       "\n",
       "Step:  AIC=59283.71\n",
       "result ~ sex + age + townsend + n_cancers + diabetes + whr + \n",
       "    edu_level + peopleInHousehold + Population + ethnicity_sim + \n",
       "    house_type + Dem_diag + copd + whistling\n",
       "\n",
       "                    Df Deviance   AIC\n",
       "- sex                1    59234 59282\n",
       "- Population         1    59234 59282\n",
       "- diabetes           1    59234 59282\n",
       "- whistling          1    59234 59282\n",
       "<none>                    59234 59284\n",
       "+ highBP             2    59233 59287\n",
       "- ethnicity_sim      1    59249 59297\n",
       "- n_cancers          1    59254 59302\n",
       "- whr                1    59261 59309\n",
       "- house_type         5    59269 59309\n",
       "- Dem_diag           1    59279 59327\n",
       "- copd               2    59313 59359\n",
       "- townsend           1    59329 59377\n",
       "- peopleInHousehold  1    59363 59411\n",
       "- edu_level          6    59486 59524\n",
       "- age                1    60984 61032\n",
       "\n",
       "Step:  AIC=59281.92\n",
       "result ~ age + townsend + n_cancers + diabetes + whr + edu_level + \n",
       "    peopleInHousehold + Population + ethnicity_sim + house_type + \n",
       "    Dem_diag + copd + whistling\n",
       "\n",
       "                    Df Deviance   AIC\n",
       "- Population         1    59234 59280\n",
       "- whistling          1    59234 59280\n",
       "- diabetes           1    59234 59280\n",
       "<none>                    59234 59282\n",
       "+ sex                1    59234 59284\n",
       "+ highBP             2    59233 59285\n",
       "- ethnicity_sim      1    59249 59295\n",
       "- n_cancers          1    59254 59300\n",
       "- house_type         5    59270 59308\n",
       "- whr                1    59275 59321\n",
       "- Dem_diag           1    59279 59325\n",
       "- copd               2    59313 59357\n",
       "- townsend           1    59329 59375\n",
       "- peopleInHousehold  1    59363 59409\n",
       "- edu_level          6    59487 59523\n",
       "- age                1    60984 61030\n",
       "\n",
       "Step:  AIC=59280.23\n",
       "result ~ age + townsend + n_cancers + diabetes + whr + edu_level + \n",
       "    peopleInHousehold + ethnicity_sim + house_type + Dem_diag + \n",
       "    copd + whistling\n",
       "\n",
       "                    Df Deviance   AIC\n",
       "- whistling          1    59235 59279\n",
       "- diabetes           1    59235 59279\n",
       "<none>                    59234 59280\n",
       "+ Population         1    59234 59282\n",
       "+ sex                1    59234 59282\n",
       "+ highBP             2    59234 59284\n",
       "- ethnicity_sim      1    59249 59293\n",
       "- n_cancers          1    59255 59299\n",
       "- house_type         5    59270 59306\n",
       "- whr                1    59276 59320\n",
       "- Dem_diag           1    59279 59323\n",
       "- copd               2    59314 59356\n",
       "- townsend           1    59330 59374\n",
       "- peopleInHousehold  1    59363 59407\n",
       "- edu_level          6    59488 59522\n",
       "- age                1    60984 61028\n",
       "\n",
       "Step:  AIC=59278.74\n",
       "result ~ age + townsend + n_cancers + diabetes + whr + edu_level + \n",
       "    peopleInHousehold + ethnicity_sim + house_type + Dem_diag + \n",
       "    copd\n",
       "\n",
       "                    Df Deviance   AIC\n",
       "- diabetes           1    59235 59277\n",
       "<none>                    59235 59279\n",
       "+ whistling          1    59234 59280\n",
       "+ Population         1    59234 59280\n",
       "+ sex                1    59235 59281\n",
       "+ highBP             2    59234 59282\n",
       "- ethnicity_sim      1    59250 59292\n",
       "- n_cancers          1    59255 59297\n",
       "- house_type         5    59271 59305\n",
       "- whr                1    59276 59318\n",
       "- Dem_diag           1    59280 59322\n",
       "- copd               2    59314 59354\n",
       "- townsend           1    59330 59372\n",
       "- peopleInHousehold  1    59364 59406\n",
       "- edu_level          6    59488 59520\n",
       "- age                1    60984 61026\n",
       "\n",
       "Step:  AIC=59277.26\n",
       "result ~ age + townsend + n_cancers + whr + edu_level + peopleInHousehold + \n",
       "    ethnicity_sim + house_type + Dem_diag + copd\n",
       "\n",
       "                    Df Deviance   AIC\n",
       "<none>                    59235 59277\n",
       "+ diabetes           1    59235 59279\n",
       "+ whistling          1    59235 59279\n",
       "+ Population         1    59235 59279\n",
       "+ sex                1    59235 59279\n",
       "+ highBP             2    59235 59281\n",
       "- ethnicity_sim      1    59251 59291\n",
       "- n_cancers          1    59256 59296\n",
       "- house_type         5    59271 59303\n",
       "- whr                1    59279 59319\n",
       "- Dem_diag           1    59280 59320\n",
       "- copd               2    59314 59352\n",
       "- townsend           1    59331 59371\n",
       "- peopleInHousehold  1    59365 59405\n",
       "- edu_level          6    59489 59519\n",
       "- age                1    60988 61028\n",
       "\n",
       "Call:\n",
       "glm(formula = result ~ age + townsend + n_cancers + whr + edu_level + \n",
       "    peopleInHousehold + ethnicity_sim + house_type + Dem_diag + \n",
       "    copd, family = \"binomial\", data = ukb_dt_subset)\n",
       "\n",
       "Deviance Residuals: \n",
       "    Min       1Q   Median       3Q      Max  \n",
       "-3.9201  -0.7631  -0.6030  -0.4154   2.3770  \n",
       "\n",
       "Coefficients:\n",
       "                                                                   Estimate\n",
       "(Intercept)                                                        1.835517\n",
       "age                                                               -0.058971\n",
       "townsend                                                           0.035048\n",
       "n_cancers                                                         -0.150602\n",
       "whr                                                                0.756318\n",
       "edu_levelCollege or University degree                             -0.100066\n",
       "edu_levelCSEs or equivalent                                        0.377208\n",
       "edu_levelNone of the above                                         0.415453\n",
       "edu_levelNVQ or HND or HNC or equivalent                           0.292291\n",
       "edu_levelO levels/GCSEs or equivalent                              0.107563\n",
       "edu_levelOther professional qualifications eg: nursing, teaching   0.076880\n",
       "peopleInHousehold                                                  0.087956\n",
       "ethnicity_simwhite                                                -0.122535\n",
       "house_typeA house or bungalow                                      0.170710\n",
       "house_typeCare home                                               -9.898458\n",
       "house_typeMobile or temporary structure (i.e. caravan)            -0.614450\n",
       "house_typeNone of the above                                       -0.231113\n",
       "house_typeSheltered accommodation                                 -9.952621\n",
       "Dem_diagTrue                                                       0.778460\n",
       "copdFalse                                                         -0.223718\n",
       "copdTrue                                                          -0.302351\n",
       "                                                                 Std. Error\n",
       "(Intercept)                                                        0.147972\n",
       "age                                                                0.001414\n",
       "townsend                                                           0.003576\n",
       "n_cancers                                                          0.033768\n",
       "whr                                                                0.114238\n",
       "edu_levelCollege or University degree                              0.070419\n",
       "edu_levelCSEs or equivalent                                        0.071426\n",
       "edu_levelNone of the above                                         0.067193\n",
       "edu_levelNVQ or HND or HNC or equivalent                           0.067167\n",
       "edu_levelO levels/GCSEs or equivalent                              0.067154\n",
       "edu_levelOther professional qualifications eg: nursing, teaching   0.065462\n",
       "peopleInHousehold                                                  0.008105\n",
       "ethnicity_simwhite                                                 0.031060\n",
       "house_typeA house or bungalow                                      0.038758\n",
       "house_typeCare home                                              196.967686\n",
       "house_typeMobile or temporary structure (i.e. caravan)             0.331432\n",
       "house_typeNone of the above                                        0.204428\n",
       "house_typeSheltered accommodation                                 50.828750\n",
       "Dem_diagTrue                                                       0.110515\n",
       "copdFalse                                                          0.025793\n",
       "copdTrue                                                           0.171656\n",
       "                                                                 z value\n",
       "(Intercept)                                                       12.405\n",
       "age                                                              -41.717\n",
       "townsend                                                           9.800\n",
       "n_cancers                                                         -4.460\n",
       "whr                                                                6.621\n",
       "edu_levelCollege or University degree                             -1.421\n",
       "edu_levelCSEs or equivalent                                        5.281\n",
       "edu_levelNone of the above                                         6.183\n",
       "edu_levelNVQ or HND or HNC or equivalent                           4.352\n",
       "edu_levelO levels/GCSEs or equivalent                              1.602\n",
       "edu_levelOther professional qualifications eg: nursing, teaching   1.174\n",
       "peopleInHousehold                                                 10.851\n",
       "ethnicity_simwhite                                                -3.945\n",
       "house_typeA house or bungalow                                      4.405\n",
       "house_typeCare home                                               -0.050\n",
       "house_typeMobile or temporary structure (i.e. caravan)            -1.854\n",
       "house_typeNone of the above                                       -1.131\n",
       "house_typeSheltered accommodation                                 -0.196\n",
       "Dem_diagTrue                                                       7.044\n",
       "copdFalse                                                         -8.674\n",
       "copdTrue                                                          -1.761\n",
       "                                                                 Pr(>|z|)    \n",
       "(Intercept)                                                       < 2e-16 ***\n",
       "age                                                               < 2e-16 ***\n",
       "townsend                                                          < 2e-16 ***\n",
       "n_cancers                                                        8.20e-06 ***\n",
       "whr                                                              3.58e-11 ***\n",
       "edu_levelCollege or University degree                              0.1553    \n",
       "edu_levelCSEs or equivalent                                      1.28e-07 ***\n",
       "edu_levelNone of the above                                       6.29e-10 ***\n",
       "edu_levelNVQ or HND or HNC or equivalent                         1.35e-05 ***\n",
       "edu_levelO levels/GCSEs or equivalent                              0.1092    \n",
       "edu_levelOther professional qualifications eg: nursing, teaching   0.2402    \n",
       "peopleInHousehold                                                 < 2e-16 ***\n",
       "ethnicity_simwhite                                               7.98e-05 ***\n",
       "house_typeA house or bungalow                                    1.06e-05 ***\n",
       "house_typeCare home                                                0.9599    \n",
       "house_typeMobile or temporary structure (i.e. caravan)             0.0637 .  \n",
       "house_typeNone of the above                                        0.2582    \n",
       "house_typeSheltered accommodation                                  0.8448    \n",
       "Dem_diagTrue                                                     1.87e-12 ***\n",
       "copdFalse                                                         < 2e-16 ***\n",
       "copdTrue                                                           0.0782 .  \n",
       "---\n",
       "Signif. codes:  0 ‘***’ 0.001 ‘**’ 0.01 ‘*’ 0.05 ‘.’ 0.1 ‘ ’ 1\n",
       "\n",
       "(Dispersion parameter for binomial family taken to be 1)\n",
       "\n",
       "    Null deviance: 62920  on 56589  degrees of freedom\n",
       "Residual deviance: 59235  on 56569  degrees of freedom\n",
       "AIC: 59277\n",
       "\n",
       "Number of Fisher Scoring iterations: 10\n",
       "\n"
      ]
     },
     "metadata": {},
     "output_type": "display_data"
    }
   ],
   "source": [
    "%%R\n",
    "\n",
    "library(MASS)\n",
    "# Stepwise regression model\n",
    "infection_general_step <- stepAIC(infection_general, direction = \"both\")\n",
    "summary(infection_general_step)"
   ]
  },
  {
   "cell_type": "markdown",
   "metadata": {},
   "source": [
    "Paracetamol infection & death, using optimised parameters"
   ]
  },
  {
   "cell_type": "code",
   "execution_count": 174,
   "metadata": {
    "scrolled": false
   },
   "outputs": [],
   "source": [
    "%%R\n",
    "infection_para.b = glm(formula = result ~ age + townsend + n_cancers + whr + edu_level + \n",
    "    peopleInHousehold + ethnicity_sim + house_type + Dem_diag + \n",
    "    copd+paracetamol, family = \"binomial\", data = ukb_dt)\n",
    "\n",
    "death_para.b = glm(formula = covid_death ~ sex + age + townsend + n_cancers + \n",
    "    diabetes + whr + edu_level + ethnicity_sim + highBP + Dem_diag + \n",
    "    copd + whistling+paracetamol, family = \"binomial\", data = subset(ukb_dt, result == 1))"
   ]
  },
  {
   "cell_type": "code",
   "execution_count": 166,
   "metadata": {},
   "outputs": [
    {
     "data": {
      "text/plain": [
       "\n",
       "Call:\n",
       "glm(formula = result ~ age + townsend + n_cancers + whr + edu_level + \n",
       "    peopleInHousehold + ethnicity_sim + house_type + Dem_diag + \n",
       "    copd + paracetamol, family = \"binomial\", data = ukb_dt)\n",
       "\n",
       "Deviance Residuals: \n",
       "    Min       1Q   Median       3Q      Max  \n",
       "-3.9224  -0.7658  -0.6049  -0.4078   2.3983  \n",
       "\n",
       "Coefficients:\n",
       "                                                                   Estimate\n",
       "(Intercept)                                                        1.858413\n",
       "age                                                               -0.058775\n",
       "townsend                                                           0.034743\n",
       "n_cancers                                                         -0.147541\n",
       "whr                                                                0.780223\n",
       "edu_levelCollege or University degree                             -0.140199\n",
       "edu_levelCSEs or equivalent                                        0.353640\n",
       "edu_levelNone of the above                                         0.388212\n",
       "edu_levelNVQ or HND or HNC or equivalent                           0.266646\n",
       "edu_levelO levels/GCSEs or equivalent                              0.076547\n",
       "edu_levelOther professional qualifications eg: nursing, teaching   0.041169\n",
       "peopleInHousehold                                                  0.088031\n",
       "ethnicity_simwhite                                                -0.123824\n",
       "house_typeA house or bungalow                                      0.161684\n",
       "house_typeCare home                                               -9.912839\n",
       "house_typeMobile or temporary structure (i.e. caravan)            -0.674938\n",
       "house_typeNone of the above                                       -0.236542\n",
       "house_typeSheltered accommodation                                 -9.970525\n",
       "Dem_diagTrue                                                       0.789763\n",
       "copdFalse                                                         -0.227376\n",
       "copdTrue                                                          -0.241590\n",
       "paracetamolTRUE                                                   -0.068630\n",
       "                                                                 Std. Error\n",
       "(Intercept)                                                        0.145187\n",
       "age                                                                0.001387\n",
       "townsend                                                           0.003510\n",
       "n_cancers                                                          0.033291\n",
       "whr                                                                0.112176\n",
       "edu_levelCollege or University degree                              0.068841\n",
       "edu_levelCSEs or equivalent                                        0.069813\n",
       "edu_levelNone of the above                                         0.065660\n",
       "edu_levelNVQ or HND or HNC or equivalent                           0.065651\n",
       "edu_levelO levels/GCSEs or equivalent                              0.065649\n",
       "edu_levelOther professional qualifications eg: nursing, teaching   0.063990\n",
       "peopleInHousehold                                                  0.007916\n",
       "ethnicity_simwhite                                                 0.030279\n",
       "house_typeA house or bungalow                                      0.037628\n",
       "house_typeCare home                                              196.967686\n",
       "house_typeMobile or temporary structure (i.e. caravan)             0.330541\n",
       "house_typeNone of the above                                        0.194043\n",
       "house_typeSheltered accommodation                                 50.762025\n",
       "Dem_diagTrue                                                       0.108405\n",
       "copdFalse                                                          0.025495\n",
       "copdTrue                                                           0.166678\n",
       "paracetamolTRUE                                                    0.024111\n",
       "                                                                 z value\n",
       "(Intercept)                                                       12.800\n",
       "age                                                              -42.389\n",
       "townsend                                                           9.899\n",
       "n_cancers                                                         -4.432\n",
       "whr                                                                6.955\n",
       "edu_levelCollege or University degree                             -2.037\n",
       "edu_levelCSEs or equivalent                                        5.066\n",
       "edu_levelNone of the above                                         5.912\n",
       "edu_levelNVQ or HND or HNC or equivalent                           4.062\n",
       "edu_levelO levels/GCSEs or equivalent                              1.166\n",
       "edu_levelOther professional qualifications eg: nursing, teaching   0.643\n",
       "peopleInHousehold                                                 11.121\n",
       "ethnicity_simwhite                                                -4.089\n",
       "house_typeA house or bungalow                                      4.297\n",
       "house_typeCare home                                               -0.050\n",
       "house_typeMobile or temporary structure (i.e. caravan)            -2.042\n",
       "house_typeNone of the above                                       -1.219\n",
       "house_typeSheltered accommodation                                 -0.196\n",
       "Dem_diagTrue                                                       7.285\n",
       "copdFalse                                                         -8.918\n",
       "copdTrue                                                          -1.449\n",
       "paracetamolTRUE                                                   -2.846\n",
       "                                                                 Pr(>|z|)    \n",
       "(Intercept)                                                       < 2e-16 ***\n",
       "age                                                               < 2e-16 ***\n",
       "townsend                                                          < 2e-16 ***\n",
       "n_cancers                                                        9.34e-06 ***\n",
       "whr                                                              3.52e-12 ***\n",
       "edu_levelCollege or University degree                             0.04170 *  \n",
       "edu_levelCSEs or equivalent                                      4.07e-07 ***\n",
       "edu_levelNone of the above                                       3.37e-09 ***\n",
       "edu_levelNVQ or HND or HNC or equivalent                         4.87e-05 ***\n",
       "edu_levelO levels/GCSEs or equivalent                             0.24361    \n",
       "edu_levelOther professional qualifications eg: nursing, teaching  0.51998    \n",
       "peopleInHousehold                                                 < 2e-16 ***\n",
       "ethnicity_simwhite                                               4.32e-05 ***\n",
       "house_typeA house or bungalow                                    1.73e-05 ***\n",
       "house_typeCare home                                               0.95986    \n",
       "house_typeMobile or temporary structure (i.e. caravan)            0.04116 *  \n",
       "house_typeNone of the above                                       0.22284    \n",
       "house_typeSheltered accommodation                                 0.84428    \n",
       "Dem_diagTrue                                                     3.21e-13 ***\n",
       "copdFalse                                                         < 2e-16 ***\n",
       "copdTrue                                                          0.14722    \n",
       "paracetamolTRUE                                                   0.00442 ** \n",
       "---\n",
       "Signif. codes:  0 ‘***’ 0.001 ‘**’ 0.01 ‘*’ 0.05 ‘.’ 0.1 ‘ ’ 1\n",
       "\n",
       "(Dispersion parameter for binomial family taken to be 1)\n",
       "\n",
       "    Null deviance: 65094  on 58351  degrees of freedom\n",
       "Residual deviance: 61274  on 58330  degrees of freedom\n",
       "  (2094 observations deleted due to missingness)\n",
       "AIC: 61318\n",
       "\n",
       "Number of Fisher Scoring iterations: 10\n",
       "\n"
      ]
     },
     "metadata": {},
     "output_type": "display_data"
    }
   ],
   "source": [
    "%%R\n",
    "summary(infection_para.b)\n"
   ]
  },
  {
   "cell_type": "code",
   "execution_count": 178,
   "metadata": {},
   "outputs": [
    {
     "data": {
      "text/plain": [
       "[1] 14877\n"
      ]
     },
     "metadata": {},
     "output_type": "display_data"
    }
   ],
   "source": [
    "%%R\n",
    "nrow(subset(ukb_dt, \n",
    "    result == 1))"
   ]
  },
  {
   "cell_type": "code",
   "execution_count": 170,
   "metadata": {},
   "outputs": [],
   "source": [
    "%%R\n",
    "infection_ibu.b = glm(formula = result ~ age + townsend + n_cancers + whr + edu_level + \n",
    "    peopleInHousehold + ethnicity_sim + house_type + Dem_diag + \n",
    "    copd+ibuprofen, family = \"binomial\", data = ukb_dt)\n",
    "\n",
    "death_ibu.b = glm(formula = covid_death ~ sex + age + townsend + n_cancers + \n",
    "    diabetes + whr + edu_level + ethnicity_sim + highBP + Dem_diag + \n",
    "    copd + whistling+ibuprofen, family = \"binomial\", data = ukb_dt)"
   ]
  },
  {
   "cell_type": "code",
   "execution_count": 179,
   "metadata": {
    "scrolled": true
   },
   "outputs": [
    {
     "data": {
      "text/plain": [
       "\n",
       "Call:\n",
       "glm(formula = result ~ age + townsend + n_cancers + whr + edu_level + \n",
       "    peopleInHousehold + ethnicity_sim + house_type + Dem_diag + \n",
       "    copd + ibuprofen, family = \"binomial\", data = ukb_dt)\n",
       "\n",
       "Deviance Residuals: \n",
       "    Min       1Q   Median       3Q      Max  \n",
       "-3.9181  -0.7656  -0.6051  -0.4081   2.3733  \n",
       "\n",
       "Coefficients:\n",
       "                                                                   Estimate\n",
       "(Intercept)                                                        1.846259\n",
       "age                                                               -0.058779\n",
       "townsend                                                           0.034277\n",
       "n_cancers                                                         -0.149627\n",
       "whr                                                                0.785548\n",
       "edu_levelCollege or University degree                             -0.140232\n",
       "edu_levelCSEs or equivalent                                        0.349223\n",
       "edu_levelNone of the above                                         0.381539\n",
       "edu_levelNVQ or HND or HNC or equivalent                           0.262871\n",
       "edu_levelO levels/GCSEs or equivalent                              0.075372\n",
       "edu_levelOther professional qualifications eg: nursing, teaching   0.039300\n",
       "peopleInHousehold                                                  0.087981\n",
       "ethnicity_simwhite                                                -0.122746\n",
       "house_typeA house or bungalow                                      0.160036\n",
       "house_typeCare home                                               -9.905102\n",
       "house_typeMobile or temporary structure (i.e. caravan)            -0.679644\n",
       "house_typeNone of the above                                       -0.235934\n",
       "house_typeSheltered accommodation                                 -9.969906\n",
       "Dem_diagTrue                                                       0.786887\n",
       "copdFalse                                                         -0.225795\n",
       "copdTrue                                                          -0.242391\n",
       "ibuprofenTRUE                                                     -0.030299\n",
       "                                                                 Std. Error\n",
       "(Intercept)                                                        0.145668\n",
       "age                                                                0.001392\n",
       "townsend                                                           0.003506\n",
       "n_cancers                                                          0.033285\n",
       "whr                                                                0.112167\n",
       "edu_levelCollege or University degree                              0.068841\n",
       "edu_levelCSEs or equivalent                                        0.069789\n",
       "edu_levelNone of the above                                         0.065618\n",
       "edu_levelNVQ or HND or HNC or equivalent                           0.065634\n",
       "edu_levelO levels/GCSEs or equivalent                              0.065644\n",
       "edu_levelOther professional qualifications eg: nursing, teaching   0.063983\n",
       "peopleInHousehold                                                  0.007916\n",
       "ethnicity_simwhite                                                 0.030282\n",
       "house_typeA house or bungalow                                      0.037619\n",
       "house_typeCare home                                              196.967686\n",
       "house_typeMobile or temporary structure (i.e. caravan)             0.330583\n",
       "house_typeNone of the above                                        0.193995\n",
       "house_typeSheltered accommodation                                 50.825739\n",
       "Dem_diagTrue                                                       0.108404\n",
       "copdFalse                                                          0.025490\n",
       "copdTrue                                                           0.166731\n",
       "ibuprofenTRUE                                                      0.028372\n",
       "                                                                 z value\n",
       "(Intercept)                                                       12.674\n",
       "age                                                              -42.221\n",
       "townsend                                                           9.778\n",
       "n_cancers                                                         -4.495\n",
       "whr                                                                7.003\n",
       "edu_levelCollege or University degree                             -2.037\n",
       "edu_levelCSEs or equivalent                                        5.004\n",
       "edu_levelNone of the above                                         5.814\n",
       "edu_levelNVQ or HND or HNC or equivalent                           4.005\n",
       "edu_levelO levels/GCSEs or equivalent                              1.148\n",
       "edu_levelOther professional qualifications eg: nursing, teaching   0.614\n",
       "peopleInHousehold                                                 11.114\n",
       "ethnicity_simwhite                                                -4.053\n",
       "house_typeA house or bungalow                                      4.254\n",
       "house_typeCare home                                               -0.050\n",
       "house_typeMobile or temporary structure (i.e. caravan)            -2.056\n",
       "house_typeNone of the above                                       -1.216\n",
       "house_typeSheltered accommodation                                 -0.196\n",
       "Dem_diagTrue                                                       7.259\n",
       "copdFalse                                                         -8.858\n",
       "copdTrue                                                          -1.454\n",
       "ibuprofenTRUE                                                     -1.068\n",
       "                                                                 Pr(>|z|)    \n",
       "(Intercept)                                                       < 2e-16 ***\n",
       "age                                                               < 2e-16 ***\n",
       "townsend                                                          < 2e-16 ***\n",
       "n_cancers                                                        6.95e-06 ***\n",
       "whr                                                              2.50e-12 ***\n",
       "edu_levelCollege or University degree                              0.0416 *  \n",
       "edu_levelCSEs or equivalent                                      5.62e-07 ***\n",
       "edu_levelNone of the above                                       6.08e-09 ***\n",
       "edu_levelNVQ or HND or HNC or equivalent                         6.20e-05 ***\n",
       "edu_levelO levels/GCSEs or equivalent                              0.2509    \n",
       "edu_levelOther professional qualifications eg: nursing, teaching   0.5391    \n",
       "peopleInHousehold                                                 < 2e-16 ***\n",
       "ethnicity_simwhite                                               5.05e-05 ***\n",
       "house_typeA house or bungalow                                    2.10e-05 ***\n",
       "house_typeCare home                                                0.9599    \n",
       "house_typeMobile or temporary structure (i.e. caravan)             0.0398 *  \n",
       "house_typeNone of the above                                        0.2239    \n",
       "house_typeSheltered accommodation                                  0.8445    \n",
       "Dem_diagTrue                                                     3.90e-13 ***\n",
       "copdFalse                                                         < 2e-16 ***\n",
       "copdTrue                                                           0.1460    \n",
       "ibuprofenTRUE                                                      0.2856    \n",
       "---\n",
       "Signif. codes:  0 ‘***’ 0.001 ‘**’ 0.01 ‘*’ 0.05 ‘.’ 0.1 ‘ ’ 1\n",
       "\n",
       "(Dispersion parameter for binomial family taken to be 1)\n",
       "\n",
       "    Null deviance: 65094  on 58351  degrees of freedom\n",
       "Residual deviance: 61281  on 58330  degrees of freedom\n",
       "  (2094 observations deleted due to missingness)\n",
       "AIC: 61325\n",
       "\n",
       "Number of Fisher Scoring iterations: 10\n",
       "\n"
      ]
     },
     "metadata": {},
     "output_type": "display_data"
    }
   ],
   "source": [
    "%%R\n",
    "summary(infection_ibu.b)\n"
   ]
  },
  {
   "cell_type": "code",
   "execution_count": 209,
   "metadata": {},
   "outputs": [],
   "source": [
    "%%R\n",
    "\n",
    "infection_ibu.b_odds = data.frame(name=row.names(summary(infection_ibu.b)$coefficients),\n",
    "                           OR = exp(summary(infection_ibu.b)$coefficients[,1]),\n",
    "                           lower = exp(summary(infection_ibu.b)$coefficients[,1] - summary(infection_ibu.b)$coefficients[,2]),\n",
    "                           upper = exp(summary(infection_ibu.b)$coefficients[,1] + summary(infection_ibu.b)$coefficients[,2]),\n",
    "                           p_value = summary(infection_ibu.b)$coefficients[,4])\n",
    "\n",
    "\n",
    "write.csv(infection_ibu.b_odds,\"data_output/infection_ibu.b_odds.csv\", row.names=TRUE)\n",
    "\n",
    "infection_ibu.b_odds$significance = \"p-value > 0.05\"\n",
    "infection_ibu.b_odds$significance[infection_ibu.b_odds$p_value < 0.05] <- \"p-value < 0.05\"\n",
    "infection_ibu.b_odds$variables = row.names(infection_ibu.b_odds)\n",
    "\n",
    "library(ggplot2)\n",
    "\n",
    "infection_ibu.b_odds_df = subset(infection_ibu.b_odds, name != \"(Intercept)\" & \n",
    "                                 name != \"house_typeCare home\" & \n",
    "                                name != \"house_typeSheltered accommodation\")\n",
    "\n",
    "ggplot(infection_ibu.b_odds_df, \n",
    "       aes(x=name, y=OR)) + \n",
    "  geom_errorbar(aes(ymin=lower, ymax=upper),\n",
    "                width=0,                    # Width of the error bars\n",
    "                position=position_dodge(.9), color = \"#939598\", size = 1) +\n",
    "  geom_point(aes(color = significance, fill = significance),shape=21, size = 2) +\n",
    "  theme_classic() + \n",
    "  geom_hline(yintercept = 1, linetype=\"dotted\", linetype = \"longdash\") +\n",
    "  coord_flip()+ylab(\"Odds ratio\") + \n",
    "  xlab(\"\") + \n",
    "  scale_colour_manual(name = \"grp\",values = c(\"#ED2024\",\"#939598\")) + \n",
    "  scale_fill_manual(name = \"grp\",values = c(\"#ED2024\",\"#939598\")) +\n",
    "  theme(legend.position = \"none\")\n",
    "\n",
    "ggsave('fig/infection_ibu.pdf', width = 6, height = 3.5)\n"
   ]
  },
  {
   "cell_type": "code",
   "execution_count": 207,
   "metadata": {},
   "outputs": [],
   "source": [
    "%%R\n",
    "\n",
    "infection_para.b_odds = data.frame(name=row.names(summary(infection_para.b)$coefficients),\n",
    "                           OR = exp(summary(infection_para.b)$coefficients[,1]),\n",
    "                           lower = exp(summary(infection_para.b)$coefficients[,1] - summary(infection_para.b)$coefficients[,2]),\n",
    "                           upper = exp(summary(infection_para.b)$coefficients[,1] + summary(infection_para.b)$coefficients[,2]),\n",
    "                           p_value = summary(infection_para.b)$coefficients[,4])\n",
    "\n",
    "\n",
    "write.csv(infection_para.b_odds,\"data_output/infection_para.b_odds.csv\", row.names=TRUE)\n",
    "\n",
    "infection_para.b_odds$significance = \"p-value > 0.05\"\n",
    "infection_para.b_odds$significance[infection_para.b_odds$p_value <= 0.05] <- \"p-value < 0.05\"\n",
    "infection_para.b_odds$variables = row.names(infection_para.b_odds)\n",
    "\n",
    "library(ggplot2)\n",
    "\n",
    "infection_para.b_odds_df = subset(infection_para.b_odds, name != \"(Intercept)\" & \n",
    "                                 name != \"house_typeCare home\" & \n",
    "                                name != \"house_typeSheltered accommodation\")\n",
    "ggplot(infection_para.b_odds_df, \n",
    "       aes(x=name, y=OR)) + \n",
    "  geom_errorbar(aes(ymin=lower, ymax=upper),\n",
    "                width=0,                    # Width of the error bars\n",
    "                position=position_dodge(.9), color = \"#939598\", size = 1) +\n",
    "  geom_point(aes(color = significance, fill = significance),shape=21, size = 2) +\n",
    "  theme_classic() + \n",
    "  geom_hline(yintercept = 1, linetype=\"dotted\", linetype = \"longdash\") +\n",
    "  coord_flip()+ylab(\"Odds ratio\") + \n",
    "  xlab(\"\") + \n",
    "  scale_colour_manual(name = \"grp\",values = c(\"#ED2024\",\"#939598\")) + \n",
    "  scale_fill_manual(name = \"grp\",values = c(\"#ED2024\",\"#939598\")) +\n",
    "  theme(legend.position = \"none\")\n",
    "\n",
    "ggsave('fig/infection_para.pdf', width = 6, height = 3.5)\n"
   ]
  }
 ],
 "metadata": {
  "colab": {
   "authorship_tag": "ABX9TyMrM7p0y4R7DW80zu6uL1wg",
   "collapsed_sections": [],
   "mount_file_id": "1Z6jL9pOMLk7HJOAzUPwaKoc8XUbRR5ny",
   "name": "AirPolliution_UKBiobank.ipynb",
   "provenance": [],
   "toc_visible": true
  },
  "kernelspec": {
   "display_name": "yy_37_env2",
   "language": "python",
   "name": "yy_37_env2"
  },
  "language_info": {
   "codemirror_mode": {
    "name": "ipython",
    "version": 3
   },
   "file_extension": ".py",
   "mimetype": "text/x-python",
   "name": "python",
   "nbconvert_exporter": "python",
   "pygments_lexer": "ipython3",
   "version": "3.7.7"
  },
  "toc": {
   "base_numbering": 1,
   "nav_menu": {},
   "number_sections": true,
   "sideBar": true,
   "skip_h1_title": false,
   "title_cell": "Table of Contents",
   "title_sidebar": "Contents",
   "toc_cell": true,
   "toc_position": {
    "height": "calc(100% - 180px)",
    "left": "10px",
    "top": "150px",
    "width": "358.949px"
   },
   "toc_section_display": true,
   "toc_window_display": true
  }
 },
 "nbformat": 4,
 "nbformat_minor": 1
}
